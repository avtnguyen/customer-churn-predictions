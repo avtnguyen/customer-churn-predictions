{
 "cells": [
  {
   "cell_type": "markdown",
   "metadata": {},
   "source": [
    "### Import libraries"
   ]
  },
  {
   "cell_type": "code",
   "execution_count": 343,
   "metadata": {},
   "outputs": [],
   "source": [
    "import pandas as pd\n",
    "import numpy as np\n",
    "import seaborn as sns\n",
    "import matplotlib.pyplot as plt\n",
    "from sklearn.preprocessing import LabelEncoder, OneHotEncoder, StandardScaler\n",
    "from sklearn.model_selection import train_test_split\n",
    "import imblearn\n",
    "from sklearn.linear_model import LogisticRegression\n",
    "from sklearn.metrics import classification_report, confusion_matrix\n",
    "from sklearn.model_selection import GridSearchCV\n",
    "from sklearn.metrics import precision_score, recall_score, f1_score, accuracy_score\n",
    "from sklearn.ensemble import RandomForestClassifier\n",
    "import xgboost as xgb\n",
    "from xgboost import XGBClassifier\n",
    "\n",
    "sns.set_style('darkgrid')"
   ]
  },
  {
   "cell_type": "markdown",
   "metadata": {},
   "source": [
    "### Load the dataset"
   ]
  },
  {
   "cell_type": "code",
   "execution_count": 2,
   "metadata": {},
   "outputs": [],
   "source": [
    "df_train = pd.read_csv('customer-churn-prediction-2020/train.csv')\n",
    "df_test = pd.read_csv('customer-churn-prediction-2020/test.csv')"
   ]
  },
  {
   "cell_type": "markdown",
   "metadata": {},
   "source": [
    "### Data Exploration"
   ]
  },
  {
   "cell_type": "code",
   "execution_count": 3,
   "metadata": {},
   "outputs": [
    {
     "name": "stdout",
     "output_type": "stream",
     "text": [
      "Size of train dataset: (4250, 20)\n",
      "Size of test dataset: (750, 20)\n"
     ]
    }
   ],
   "source": [
    "print('Size of train dataset:',df_train.shape)\n",
    "print('Size of test dataset:', df_test.shape)"
   ]
  },
  {
   "cell_type": "code",
   "execution_count": 4,
   "metadata": {},
   "outputs": [
    {
     "data": {
      "text/html": [
       "<div>\n",
       "<style scoped>\n",
       "    .dataframe tbody tr th:only-of-type {\n",
       "        vertical-align: middle;\n",
       "    }\n",
       "\n",
       "    .dataframe tbody tr th {\n",
       "        vertical-align: top;\n",
       "    }\n",
       "\n",
       "    .dataframe thead th {\n",
       "        text-align: right;\n",
       "    }\n",
       "</style>\n",
       "<table border=\"1\" class=\"dataframe\">\n",
       "  <thead>\n",
       "    <tr style=\"text-align: right;\">\n",
       "      <th></th>\n",
       "      <th>state</th>\n",
       "      <th>account_length</th>\n",
       "      <th>area_code</th>\n",
       "      <th>international_plan</th>\n",
       "      <th>voice_mail_plan</th>\n",
       "      <th>number_vmail_messages</th>\n",
       "      <th>total_day_minutes</th>\n",
       "      <th>total_day_calls</th>\n",
       "      <th>total_day_charge</th>\n",
       "      <th>total_eve_minutes</th>\n",
       "      <th>total_eve_calls</th>\n",
       "      <th>total_eve_charge</th>\n",
       "      <th>total_night_minutes</th>\n",
       "      <th>total_night_calls</th>\n",
       "      <th>total_night_charge</th>\n",
       "      <th>total_intl_minutes</th>\n",
       "      <th>total_intl_calls</th>\n",
       "      <th>total_intl_charge</th>\n",
       "      <th>number_customer_service_calls</th>\n",
       "      <th>churn</th>\n",
       "    </tr>\n",
       "  </thead>\n",
       "  <tbody>\n",
       "    <tr>\n",
       "      <th>0</th>\n",
       "      <td>OH</td>\n",
       "      <td>107</td>\n",
       "      <td>area_code_415</td>\n",
       "      <td>no</td>\n",
       "      <td>yes</td>\n",
       "      <td>26</td>\n",
       "      <td>161.6</td>\n",
       "      <td>123</td>\n",
       "      <td>27.47</td>\n",
       "      <td>195.5</td>\n",
       "      <td>103</td>\n",
       "      <td>16.62</td>\n",
       "      <td>254.4</td>\n",
       "      <td>103</td>\n",
       "      <td>11.45</td>\n",
       "      <td>13.7</td>\n",
       "      <td>3</td>\n",
       "      <td>3.70</td>\n",
       "      <td>1</td>\n",
       "      <td>no</td>\n",
       "    </tr>\n",
       "    <tr>\n",
       "      <th>1</th>\n",
       "      <td>NJ</td>\n",
       "      <td>137</td>\n",
       "      <td>area_code_415</td>\n",
       "      <td>no</td>\n",
       "      <td>no</td>\n",
       "      <td>0</td>\n",
       "      <td>243.4</td>\n",
       "      <td>114</td>\n",
       "      <td>41.38</td>\n",
       "      <td>121.2</td>\n",
       "      <td>110</td>\n",
       "      <td>10.30</td>\n",
       "      <td>162.6</td>\n",
       "      <td>104</td>\n",
       "      <td>7.32</td>\n",
       "      <td>12.2</td>\n",
       "      <td>5</td>\n",
       "      <td>3.29</td>\n",
       "      <td>0</td>\n",
       "      <td>no</td>\n",
       "    </tr>\n",
       "    <tr>\n",
       "      <th>2</th>\n",
       "      <td>OH</td>\n",
       "      <td>84</td>\n",
       "      <td>area_code_408</td>\n",
       "      <td>yes</td>\n",
       "      <td>no</td>\n",
       "      <td>0</td>\n",
       "      <td>299.4</td>\n",
       "      <td>71</td>\n",
       "      <td>50.90</td>\n",
       "      <td>61.9</td>\n",
       "      <td>88</td>\n",
       "      <td>5.26</td>\n",
       "      <td>196.9</td>\n",
       "      <td>89</td>\n",
       "      <td>8.86</td>\n",
       "      <td>6.6</td>\n",
       "      <td>7</td>\n",
       "      <td>1.78</td>\n",
       "      <td>2</td>\n",
       "      <td>no</td>\n",
       "    </tr>\n",
       "    <tr>\n",
       "      <th>3</th>\n",
       "      <td>OK</td>\n",
       "      <td>75</td>\n",
       "      <td>area_code_415</td>\n",
       "      <td>yes</td>\n",
       "      <td>no</td>\n",
       "      <td>0</td>\n",
       "      <td>166.7</td>\n",
       "      <td>113</td>\n",
       "      <td>28.34</td>\n",
       "      <td>148.3</td>\n",
       "      <td>122</td>\n",
       "      <td>12.61</td>\n",
       "      <td>186.9</td>\n",
       "      <td>121</td>\n",
       "      <td>8.41</td>\n",
       "      <td>10.1</td>\n",
       "      <td>3</td>\n",
       "      <td>2.73</td>\n",
       "      <td>3</td>\n",
       "      <td>no</td>\n",
       "    </tr>\n",
       "    <tr>\n",
       "      <th>4</th>\n",
       "      <td>MA</td>\n",
       "      <td>121</td>\n",
       "      <td>area_code_510</td>\n",
       "      <td>no</td>\n",
       "      <td>yes</td>\n",
       "      <td>24</td>\n",
       "      <td>218.2</td>\n",
       "      <td>88</td>\n",
       "      <td>37.09</td>\n",
       "      <td>348.5</td>\n",
       "      <td>108</td>\n",
       "      <td>29.62</td>\n",
       "      <td>212.6</td>\n",
       "      <td>118</td>\n",
       "      <td>9.57</td>\n",
       "      <td>7.5</td>\n",
       "      <td>7</td>\n",
       "      <td>2.03</td>\n",
       "      <td>3</td>\n",
       "      <td>no</td>\n",
       "    </tr>\n",
       "  </tbody>\n",
       "</table>\n",
       "</div>"
      ],
      "text/plain": [
       "  state  account_length      area_code international_plan voice_mail_plan  \\\n",
       "0    OH             107  area_code_415                 no             yes   \n",
       "1    NJ             137  area_code_415                 no              no   \n",
       "2    OH              84  area_code_408                yes              no   \n",
       "3    OK              75  area_code_415                yes              no   \n",
       "4    MA             121  area_code_510                 no             yes   \n",
       "\n",
       "   number_vmail_messages  total_day_minutes  total_day_calls  \\\n",
       "0                     26              161.6              123   \n",
       "1                      0              243.4              114   \n",
       "2                      0              299.4               71   \n",
       "3                      0              166.7              113   \n",
       "4                     24              218.2               88   \n",
       "\n",
       "   total_day_charge  total_eve_minutes  total_eve_calls  total_eve_charge  \\\n",
       "0             27.47              195.5              103             16.62   \n",
       "1             41.38              121.2              110             10.30   \n",
       "2             50.90               61.9               88              5.26   \n",
       "3             28.34              148.3              122             12.61   \n",
       "4             37.09              348.5              108             29.62   \n",
       "\n",
       "   total_night_minutes  total_night_calls  total_night_charge  \\\n",
       "0                254.4                103               11.45   \n",
       "1                162.6                104                7.32   \n",
       "2                196.9                 89                8.86   \n",
       "3                186.9                121                8.41   \n",
       "4                212.6                118                9.57   \n",
       "\n",
       "   total_intl_minutes  total_intl_calls  total_intl_charge  \\\n",
       "0                13.7                 3               3.70   \n",
       "1                12.2                 5               3.29   \n",
       "2                 6.6                 7               1.78   \n",
       "3                10.1                 3               2.73   \n",
       "4                 7.5                 7               2.03   \n",
       "\n",
       "   number_customer_service_calls churn  \n",
       "0                              1    no  \n",
       "1                              0    no  \n",
       "2                              2    no  \n",
       "3                              3    no  \n",
       "4                              3    no  "
      ]
     },
     "execution_count": 4,
     "metadata": {},
     "output_type": "execute_result"
    }
   ],
   "source": [
    "df_train.head()"
   ]
  },
  {
   "cell_type": "code",
   "execution_count": 5,
   "metadata": {},
   "outputs": [
    {
     "name": "stdout",
     "output_type": "stream",
     "text": [
      "<class 'pandas.core.frame.DataFrame'>\n",
      "RangeIndex: 4250 entries, 0 to 4249\n",
      "Data columns (total 20 columns):\n",
      " #   Column                         Non-Null Count  Dtype  \n",
      "---  ------                         --------------  -----  \n",
      " 0   state                          4250 non-null   object \n",
      " 1   account_length                 4250 non-null   int64  \n",
      " 2   area_code                      4250 non-null   object \n",
      " 3   international_plan             4250 non-null   object \n",
      " 4   voice_mail_plan                4250 non-null   object \n",
      " 5   number_vmail_messages          4250 non-null   int64  \n",
      " 6   total_day_minutes              4250 non-null   float64\n",
      " 7   total_day_calls                4250 non-null   int64  \n",
      " 8   total_day_charge               4250 non-null   float64\n",
      " 9   total_eve_minutes              4250 non-null   float64\n",
      " 10  total_eve_calls                4250 non-null   int64  \n",
      " 11  total_eve_charge               4250 non-null   float64\n",
      " 12  total_night_minutes            4250 non-null   float64\n",
      " 13  total_night_calls              4250 non-null   int64  \n",
      " 14  total_night_charge             4250 non-null   float64\n",
      " 15  total_intl_minutes             4250 non-null   float64\n",
      " 16  total_intl_calls               4250 non-null   int64  \n",
      " 17  total_intl_charge              4250 non-null   float64\n",
      " 18  number_customer_service_calls  4250 non-null   int64  \n",
      " 19  churn                          4250 non-null   object \n",
      "dtypes: float64(8), int64(7), object(5)\n",
      "memory usage: 664.2+ KB\n"
     ]
    }
   ],
   "source": [
    "df_train.info()"
   ]
  },
  {
   "cell_type": "code",
   "execution_count": 6,
   "metadata": {},
   "outputs": [
    {
     "name": "stdout",
     "output_type": "stream",
     "text": [
      "<class 'pandas.core.frame.DataFrame'>\n",
      "RangeIndex: 750 entries, 0 to 749\n",
      "Data columns (total 20 columns):\n",
      " #   Column                         Non-Null Count  Dtype  \n",
      "---  ------                         --------------  -----  \n",
      " 0   id                             750 non-null    int64  \n",
      " 1   state                          750 non-null    object \n",
      " 2   account_length                 750 non-null    int64  \n",
      " 3   area_code                      750 non-null    object \n",
      " 4   international_plan             750 non-null    object \n",
      " 5   voice_mail_plan                750 non-null    object \n",
      " 6   number_vmail_messages          750 non-null    int64  \n",
      " 7   total_day_minutes              750 non-null    float64\n",
      " 8   total_day_calls                750 non-null    int64  \n",
      " 9   total_day_charge               750 non-null    float64\n",
      " 10  total_eve_minutes              750 non-null    float64\n",
      " 11  total_eve_calls                750 non-null    int64  \n",
      " 12  total_eve_charge               750 non-null    float64\n",
      " 13  total_night_minutes            750 non-null    float64\n",
      " 14  total_night_calls              750 non-null    int64  \n",
      " 15  total_night_charge             750 non-null    float64\n",
      " 16  total_intl_minutes             750 non-null    float64\n",
      " 17  total_intl_calls               750 non-null    int64  \n",
      " 18  total_intl_charge              750 non-null    float64\n",
      " 19  number_customer_service_calls  750 non-null    int64  \n",
      "dtypes: float64(8), int64(8), object(4)\n",
      "memory usage: 117.3+ KB\n"
     ]
    }
   ],
   "source": [
    "df_test.info()"
   ]
  },
  {
   "cell_type": "code",
   "execution_count": 7,
   "metadata": {},
   "outputs": [
    {
     "name": "stdout",
     "output_type": "stream",
     "text": [
      "There are 19 features: ['state', 'account_length', 'area_code', 'international_plan', 'voice_mail_plan', 'number_vmail_messages', 'total_day_minutes', 'total_day_calls', 'total_day_charge', 'total_eve_minutes', 'total_eve_calls', 'total_eve_charge', 'total_night_minutes', 'total_night_calls', 'total_night_charge', 'total_intl_minutes', 'total_intl_calls', 'total_intl_charge', 'number_customer_service_calls']\n",
      "\n",
      "The label is churn that takes two values no: customer not leaving, and yes: customer leaving with the following summary\n",
      "Train dataset:\n",
      " no     3652\n",
      "yes     598\n",
      "Name: churn, dtype: int64\n",
      "\n",
      "The test dataset will not have target label. The focus of the rest of the work will be shifted to train dataset.\n"
     ]
    }
   ],
   "source": [
    "print('There are {} features:'.format(df_train.shape[1]-1), list(df_train.columns[0:-1]))\n",
    "print('\\nThe label is {} that takes two values no: customer not leaving, and yes: customer leaving with the following summary'.format(df_train.columns[-1]))\n",
    "print('Train dataset:\\n',df_train['churn'].value_counts())\n",
    "print('\\nThe test dataset will not have target label. The focus of the rest of the work will be shifted to train dataset.')\n"
   ]
  },
  {
   "cell_type": "markdown",
   "metadata": {},
   "source": [
    "As can be seen from the summary table of the target label, this is an unbalance dataset with large amount of customer not leaving and a small portion of customer leaving the service. Data exploration on this dataset will be "
   ]
  },
  {
   "cell_type": "code",
   "execution_count": 8,
   "metadata": {},
   "outputs": [
    {
     "name": "stdout",
     "output_type": "stream",
     "text": [
      "Train dataset: state                            0\n",
      "account_length                   0\n",
      "area_code                        0\n",
      "international_plan               0\n",
      "voice_mail_plan                  0\n",
      "number_vmail_messages            0\n",
      "total_day_minutes                0\n",
      "total_day_calls                  0\n",
      "total_day_charge                 0\n",
      "total_eve_minutes                0\n",
      "total_eve_calls                  0\n",
      "total_eve_charge                 0\n",
      "total_night_minutes              0\n",
      "total_night_calls                0\n",
      "total_night_charge               0\n",
      "total_intl_minutes               0\n",
      "total_intl_calls                 0\n",
      "total_intl_charge                0\n",
      "number_customer_service_calls    0\n",
      "churn                            0\n",
      "dtype: int64\n"
     ]
    }
   ],
   "source": [
    "#Check for NaN records:\n",
    "print('Train dataset:',df_train.isna().sum())"
   ]
  },
  {
   "cell_type": "code",
   "execution_count": 9,
   "metadata": {},
   "outputs": [
    {
     "data": {
      "text/html": [
       "<div>\n",
       "<style scoped>\n",
       "    .dataframe tbody tr th:only-of-type {\n",
       "        vertical-align: middle;\n",
       "    }\n",
       "\n",
       "    .dataframe tbody tr th {\n",
       "        vertical-align: top;\n",
       "    }\n",
       "\n",
       "    .dataframe thead th {\n",
       "        text-align: right;\n",
       "    }\n",
       "</style>\n",
       "<table border=\"1\" class=\"dataframe\">\n",
       "  <thead>\n",
       "    <tr style=\"text-align: right;\">\n",
       "      <th></th>\n",
       "      <th>count</th>\n",
       "      <th>mean</th>\n",
       "      <th>std</th>\n",
       "      <th>min</th>\n",
       "      <th>25%</th>\n",
       "      <th>50%</th>\n",
       "      <th>75%</th>\n",
       "      <th>max</th>\n",
       "    </tr>\n",
       "  </thead>\n",
       "  <tbody>\n",
       "    <tr>\n",
       "      <th>account_length</th>\n",
       "      <td>4250.0</td>\n",
       "      <td>100.236235</td>\n",
       "      <td>39.698401</td>\n",
       "      <td>1.0</td>\n",
       "      <td>73.0000</td>\n",
       "      <td>100.00</td>\n",
       "      <td>127.0000</td>\n",
       "      <td>243.00</td>\n",
       "    </tr>\n",
       "    <tr>\n",
       "      <th>number_vmail_messages</th>\n",
       "      <td>4250.0</td>\n",
       "      <td>7.631765</td>\n",
       "      <td>13.439882</td>\n",
       "      <td>0.0</td>\n",
       "      <td>0.0000</td>\n",
       "      <td>0.00</td>\n",
       "      <td>16.0000</td>\n",
       "      <td>52.00</td>\n",
       "    </tr>\n",
       "    <tr>\n",
       "      <th>total_day_minutes</th>\n",
       "      <td>4250.0</td>\n",
       "      <td>180.259600</td>\n",
       "      <td>54.012373</td>\n",
       "      <td>0.0</td>\n",
       "      <td>143.3250</td>\n",
       "      <td>180.45</td>\n",
       "      <td>216.2000</td>\n",
       "      <td>351.50</td>\n",
       "    </tr>\n",
       "    <tr>\n",
       "      <th>total_day_calls</th>\n",
       "      <td>4250.0</td>\n",
       "      <td>99.907294</td>\n",
       "      <td>19.850817</td>\n",
       "      <td>0.0</td>\n",
       "      <td>87.0000</td>\n",
       "      <td>100.00</td>\n",
       "      <td>113.0000</td>\n",
       "      <td>165.00</td>\n",
       "    </tr>\n",
       "    <tr>\n",
       "      <th>total_day_charge</th>\n",
       "      <td>4250.0</td>\n",
       "      <td>30.644682</td>\n",
       "      <td>9.182096</td>\n",
       "      <td>0.0</td>\n",
       "      <td>24.3650</td>\n",
       "      <td>30.68</td>\n",
       "      <td>36.7500</td>\n",
       "      <td>59.76</td>\n",
       "    </tr>\n",
       "    <tr>\n",
       "      <th>total_eve_minutes</th>\n",
       "      <td>4250.0</td>\n",
       "      <td>200.173906</td>\n",
       "      <td>50.249518</td>\n",
       "      <td>0.0</td>\n",
       "      <td>165.9250</td>\n",
       "      <td>200.70</td>\n",
       "      <td>233.7750</td>\n",
       "      <td>359.30</td>\n",
       "    </tr>\n",
       "    <tr>\n",
       "      <th>total_eve_calls</th>\n",
       "      <td>4250.0</td>\n",
       "      <td>100.176471</td>\n",
       "      <td>19.908591</td>\n",
       "      <td>0.0</td>\n",
       "      <td>87.0000</td>\n",
       "      <td>100.00</td>\n",
       "      <td>114.0000</td>\n",
       "      <td>170.00</td>\n",
       "    </tr>\n",
       "    <tr>\n",
       "      <th>total_eve_charge</th>\n",
       "      <td>4250.0</td>\n",
       "      <td>17.015012</td>\n",
       "      <td>4.271212</td>\n",
       "      <td>0.0</td>\n",
       "      <td>14.1025</td>\n",
       "      <td>17.06</td>\n",
       "      <td>19.8675</td>\n",
       "      <td>30.54</td>\n",
       "    </tr>\n",
       "    <tr>\n",
       "      <th>total_night_minutes</th>\n",
       "      <td>4250.0</td>\n",
       "      <td>200.527882</td>\n",
       "      <td>50.353548</td>\n",
       "      <td>0.0</td>\n",
       "      <td>167.2250</td>\n",
       "      <td>200.45</td>\n",
       "      <td>234.7000</td>\n",
       "      <td>395.00</td>\n",
       "    </tr>\n",
       "    <tr>\n",
       "      <th>total_night_calls</th>\n",
       "      <td>4250.0</td>\n",
       "      <td>99.839529</td>\n",
       "      <td>20.093220</td>\n",
       "      <td>0.0</td>\n",
       "      <td>86.0000</td>\n",
       "      <td>100.00</td>\n",
       "      <td>113.0000</td>\n",
       "      <td>175.00</td>\n",
       "    </tr>\n",
       "    <tr>\n",
       "      <th>total_night_charge</th>\n",
       "      <td>4250.0</td>\n",
       "      <td>9.023892</td>\n",
       "      <td>2.265922</td>\n",
       "      <td>0.0</td>\n",
       "      <td>7.5225</td>\n",
       "      <td>9.02</td>\n",
       "      <td>10.5600</td>\n",
       "      <td>17.77</td>\n",
       "    </tr>\n",
       "    <tr>\n",
       "      <th>total_intl_minutes</th>\n",
       "      <td>4250.0</td>\n",
       "      <td>10.256071</td>\n",
       "      <td>2.760102</td>\n",
       "      <td>0.0</td>\n",
       "      <td>8.5000</td>\n",
       "      <td>10.30</td>\n",
       "      <td>12.0000</td>\n",
       "      <td>20.00</td>\n",
       "    </tr>\n",
       "    <tr>\n",
       "      <th>total_intl_calls</th>\n",
       "      <td>4250.0</td>\n",
       "      <td>4.426353</td>\n",
       "      <td>2.463069</td>\n",
       "      <td>0.0</td>\n",
       "      <td>3.0000</td>\n",
       "      <td>4.00</td>\n",
       "      <td>6.0000</td>\n",
       "      <td>20.00</td>\n",
       "    </tr>\n",
       "    <tr>\n",
       "      <th>total_intl_charge</th>\n",
       "      <td>4250.0</td>\n",
       "      <td>2.769654</td>\n",
       "      <td>0.745204</td>\n",
       "      <td>0.0</td>\n",
       "      <td>2.3000</td>\n",
       "      <td>2.78</td>\n",
       "      <td>3.2400</td>\n",
       "      <td>5.40</td>\n",
       "    </tr>\n",
       "    <tr>\n",
       "      <th>number_customer_service_calls</th>\n",
       "      <td>4250.0</td>\n",
       "      <td>1.559059</td>\n",
       "      <td>1.311434</td>\n",
       "      <td>0.0</td>\n",
       "      <td>1.0000</td>\n",
       "      <td>1.00</td>\n",
       "      <td>2.0000</td>\n",
       "      <td>9.00</td>\n",
       "    </tr>\n",
       "  </tbody>\n",
       "</table>\n",
       "</div>"
      ],
      "text/plain": [
       "                                count        mean        std  min       25%  \\\n",
       "account_length                 4250.0  100.236235  39.698401  1.0   73.0000   \n",
       "number_vmail_messages          4250.0    7.631765  13.439882  0.0    0.0000   \n",
       "total_day_minutes              4250.0  180.259600  54.012373  0.0  143.3250   \n",
       "total_day_calls                4250.0   99.907294  19.850817  0.0   87.0000   \n",
       "total_day_charge               4250.0   30.644682   9.182096  0.0   24.3650   \n",
       "total_eve_minutes              4250.0  200.173906  50.249518  0.0  165.9250   \n",
       "total_eve_calls                4250.0  100.176471  19.908591  0.0   87.0000   \n",
       "total_eve_charge               4250.0   17.015012   4.271212  0.0   14.1025   \n",
       "total_night_minutes            4250.0  200.527882  50.353548  0.0  167.2250   \n",
       "total_night_calls              4250.0   99.839529  20.093220  0.0   86.0000   \n",
       "total_night_charge             4250.0    9.023892   2.265922  0.0    7.5225   \n",
       "total_intl_minutes             4250.0   10.256071   2.760102  0.0    8.5000   \n",
       "total_intl_calls               4250.0    4.426353   2.463069  0.0    3.0000   \n",
       "total_intl_charge              4250.0    2.769654   0.745204  0.0    2.3000   \n",
       "number_customer_service_calls  4250.0    1.559059   1.311434  0.0    1.0000   \n",
       "\n",
       "                                  50%       75%     max  \n",
       "account_length                 100.00  127.0000  243.00  \n",
       "number_vmail_messages            0.00   16.0000   52.00  \n",
       "total_day_minutes              180.45  216.2000  351.50  \n",
       "total_day_calls                100.00  113.0000  165.00  \n",
       "total_day_charge                30.68   36.7500   59.76  \n",
       "total_eve_minutes              200.70  233.7750  359.30  \n",
       "total_eve_calls                100.00  114.0000  170.00  \n",
       "total_eve_charge                17.06   19.8675   30.54  \n",
       "total_night_minutes            200.45  234.7000  395.00  \n",
       "total_night_calls              100.00  113.0000  175.00  \n",
       "total_night_charge               9.02   10.5600   17.77  \n",
       "total_intl_minutes              10.30   12.0000   20.00  \n",
       "total_intl_calls                 4.00    6.0000   20.00  \n",
       "total_intl_charge                2.78    3.2400    5.40  \n",
       "number_customer_service_calls    1.00    2.0000    9.00  "
      ]
     },
     "execution_count": 9,
     "metadata": {},
     "output_type": "execute_result"
    }
   ],
   "source": [
    "df_train.describe().transpose()"
   ]
  },
  {
   "cell_type": "markdown",
   "metadata": {},
   "source": [
    "### Data visualization"
   ]
  },
  {
   "cell_type": "code",
   "execution_count": 10,
   "metadata": {},
   "outputs": [
    {
     "data": {
      "image/png": "[encoded data removed]",
      "text/plain": [
       "<Figure size 720x432 with 1 Axes>"
      ]
     },
     "metadata": {},
     "output_type": "display_data"
    }
   ],
   "source": [
    "state = df_train['state'].value_counts(ascending =False)\n",
    "list_state = state.index.to_list()\n",
    "plt.figure(figsize=(10,6))\n",
    "sns.barplot(x = list_state, y = state,color = 'orange', alpha = 0.5)\n",
    "plt.xticks(rotation = 90)\n",
    "plt.show()"
   ]
  },
  {
   "cell_type": "code",
   "execution_count": 11,
   "metadata": {},
   "outputs": [
    {
     "data": {
      "text/plain": [
       "<AxesSubplot:xlabel='area_code', ylabel='count'>"
      ]
     },
     "execution_count": 11,
     "metadata": {},
     "output_type": "execute_result"
    },
    {
     "data": {
      "image/png": "[encoded data removed]",
      "text/plain": [
       "<Figure size 432x288 with 1 Axes>"
      ]
     },
     "metadata": {},
     "output_type": "display_data"
    }
   ],
   "source": [
    "df_train['area_code'].value_counts()\n",
    "sns.countplot(data = df_train, x = 'area_code', hue = 'churn',alpha = 0.5)"
   ]
  },
  {
   "cell_type": "code",
   "execution_count": 12,
   "metadata": {},
   "outputs": [
    {
     "data": {
      "text/plain": [
       "<AxesSubplot:xlabel='international_plan', ylabel='count'>"
      ]
     },
     "execution_count": 12,
     "metadata": {},
     "output_type": "execute_result"
    },
    {
     "data": {
      "image/png": "[encoded data removed]",
      "text/plain": [
       "<Figure size 432x288 with 1 Axes>"
      ]
     },
     "metadata": {},
     "output_type": "display_data"
    }
   ],
   "source": [
    "df_train['international_plan'].value_counts()\n",
    "sns.countplot(data = df_train, x = 'international_plan', hue = 'churn', alpha = 0.5)"
   ]
  },
  {
   "cell_type": "code",
   "execution_count": 13,
   "metadata": {},
   "outputs": [
    {
     "data": {
      "text/plain": [
       "<AxesSubplot:xlabel='voice_mail_plan', ylabel='count'>"
      ]
     },
     "execution_count": 13,
     "metadata": {},
     "output_type": "execute_result"
    },
    {
     "data": {
      "image/png": "[encoded data removed]",
      "text/plain": [
       "<Figure size 432x288 with 1 Axes>"
      ]
     },
     "metadata": {},
     "output_type": "display_data"
    }
   ],
   "source": [
    "df_train['voice_mail_plan'].value_counts()\n",
    "sns.countplot(data = df_train, x = 'voice_mail_plan', hue = 'churn', alpha = 0.5)"
   ]
  },
  {
   "cell_type": "code",
   "execution_count": 14,
   "metadata": {},
   "outputs": [
    {
     "data": {
      "image/png": "[encoded data removed]",
      "text/plain": [
       "<Figure size 1440x1440 with 16 Axes>"
      ]
     },
     "metadata": {},
     "output_type": "display_data"
    }
   ],
   "source": [
    "df_train.hist(figsize=(20,20),alpha = 0.5)\n",
    "plt.show()"
   ]
  },
  {
   "cell_type": "markdown",
   "metadata": {},
   "source": [
    "### Data preprocessing"
   ]
  },
  {
   "cell_type": "code",
   "execution_count": 15,
   "metadata": {},
   "outputs": [],
   "source": [
    "# Label encoding the following features:\n",
    "le = LabelEncoder()\n",
    "df_train['international_plan']=le.fit_transform(df_train['international_plan'])\n",
    "df_train['voice_mail_plan']= le.fit_transform(df_train['voice_mail_plan'])\n",
    "df_train['churn'] = le.fit_transform(df_train['churn'])\n",
    "df_train['area_code']=le.fit_transform(df_train['area_code'])"
   ]
  },
  {
   "cell_type": "code",
   "execution_count": 16,
   "metadata": {},
   "outputs": [
    {
     "data": {
      "text/html": [
       "<div>\n",
       "<style scoped>\n",
       "    .dataframe tbody tr th:only-of-type {\n",
       "        vertical-align: middle;\n",
       "    }\n",
       "\n",
       "    .dataframe tbody tr th {\n",
       "        vertical-align: top;\n",
       "    }\n",
       "\n",
       "    .dataframe thead th {\n",
       "        text-align: right;\n",
       "    }\n",
       "</style>\n",
       "<table border=\"1\" class=\"dataframe\">\n",
       "  <thead>\n",
       "    <tr style=\"text-align: right;\">\n",
       "      <th></th>\n",
       "      <th>state</th>\n",
       "      <th>account_length</th>\n",
       "      <th>area_code</th>\n",
       "      <th>international_plan</th>\n",
       "      <th>voice_mail_plan</th>\n",
       "      <th>number_vmail_messages</th>\n",
       "      <th>total_day_minutes</th>\n",
       "      <th>total_day_calls</th>\n",
       "      <th>total_day_charge</th>\n",
       "      <th>total_eve_minutes</th>\n",
       "      <th>total_eve_calls</th>\n",
       "      <th>total_eve_charge</th>\n",
       "      <th>total_night_minutes</th>\n",
       "      <th>total_night_calls</th>\n",
       "      <th>total_night_charge</th>\n",
       "      <th>total_intl_minutes</th>\n",
       "      <th>total_intl_calls</th>\n",
       "      <th>total_intl_charge</th>\n",
       "      <th>number_customer_service_calls</th>\n",
       "      <th>churn</th>\n",
       "    </tr>\n",
       "  </thead>\n",
       "  <tbody>\n",
       "    <tr>\n",
       "      <th>0</th>\n",
       "      <td>OH</td>\n",
       "      <td>107</td>\n",
       "      <td>1</td>\n",
       "      <td>0</td>\n",
       "      <td>1</td>\n",
       "      <td>26</td>\n",
       "      <td>161.6</td>\n",
       "      <td>123</td>\n",
       "      <td>27.47</td>\n",
       "      <td>195.5</td>\n",
       "      <td>103</td>\n",
       "      <td>16.62</td>\n",
       "      <td>254.4</td>\n",
       "      <td>103</td>\n",
       "      <td>11.45</td>\n",
       "      <td>13.7</td>\n",
       "      <td>3</td>\n",
       "      <td>3.70</td>\n",
       "      <td>1</td>\n",
       "      <td>0</td>\n",
       "    </tr>\n",
       "    <tr>\n",
       "      <th>1</th>\n",
       "      <td>NJ</td>\n",
       "      <td>137</td>\n",
       "      <td>1</td>\n",
       "      <td>0</td>\n",
       "      <td>0</td>\n",
       "      <td>0</td>\n",
       "      <td>243.4</td>\n",
       "      <td>114</td>\n",
       "      <td>41.38</td>\n",
       "      <td>121.2</td>\n",
       "      <td>110</td>\n",
       "      <td>10.30</td>\n",
       "      <td>162.6</td>\n",
       "      <td>104</td>\n",
       "      <td>7.32</td>\n",
       "      <td>12.2</td>\n",
       "      <td>5</td>\n",
       "      <td>3.29</td>\n",
       "      <td>0</td>\n",
       "      <td>0</td>\n",
       "    </tr>\n",
       "    <tr>\n",
       "      <th>2</th>\n",
       "      <td>OH</td>\n",
       "      <td>84</td>\n",
       "      <td>0</td>\n",
       "      <td>1</td>\n",
       "      <td>0</td>\n",
       "      <td>0</td>\n",
       "      <td>299.4</td>\n",
       "      <td>71</td>\n",
       "      <td>50.90</td>\n",
       "      <td>61.9</td>\n",
       "      <td>88</td>\n",
       "      <td>5.26</td>\n",
       "      <td>196.9</td>\n",
       "      <td>89</td>\n",
       "      <td>8.86</td>\n",
       "      <td>6.6</td>\n",
       "      <td>7</td>\n",
       "      <td>1.78</td>\n",
       "      <td>2</td>\n",
       "      <td>0</td>\n",
       "    </tr>\n",
       "    <tr>\n",
       "      <th>3</th>\n",
       "      <td>OK</td>\n",
       "      <td>75</td>\n",
       "      <td>1</td>\n",
       "      <td>1</td>\n",
       "      <td>0</td>\n",
       "      <td>0</td>\n",
       "      <td>166.7</td>\n",
       "      <td>113</td>\n",
       "      <td>28.34</td>\n",
       "      <td>148.3</td>\n",
       "      <td>122</td>\n",
       "      <td>12.61</td>\n",
       "      <td>186.9</td>\n",
       "      <td>121</td>\n",
       "      <td>8.41</td>\n",
       "      <td>10.1</td>\n",
       "      <td>3</td>\n",
       "      <td>2.73</td>\n",
       "      <td>3</td>\n",
       "      <td>0</td>\n",
       "    </tr>\n",
       "    <tr>\n",
       "      <th>4</th>\n",
       "      <td>MA</td>\n",
       "      <td>121</td>\n",
       "      <td>2</td>\n",
       "      <td>0</td>\n",
       "      <td>1</td>\n",
       "      <td>24</td>\n",
       "      <td>218.2</td>\n",
       "      <td>88</td>\n",
       "      <td>37.09</td>\n",
       "      <td>348.5</td>\n",
       "      <td>108</td>\n",
       "      <td>29.62</td>\n",
       "      <td>212.6</td>\n",
       "      <td>118</td>\n",
       "      <td>9.57</td>\n",
       "      <td>7.5</td>\n",
       "      <td>7</td>\n",
       "      <td>2.03</td>\n",
       "      <td>3</td>\n",
       "      <td>0</td>\n",
       "    </tr>\n",
       "  </tbody>\n",
       "</table>\n",
       "</div>"
      ],
      "text/plain": [
       "  state  account_length  area_code  international_plan  voice_mail_plan  \\\n",
       "0    OH             107          1                   0                1   \n",
       "1    NJ             137          1                   0                0   \n",
       "2    OH              84          0                   1                0   \n",
       "3    OK              75          1                   1                0   \n",
       "4    MA             121          2                   0                1   \n",
       "\n",
       "   number_vmail_messages  total_day_minutes  total_day_calls  \\\n",
       "0                     26              161.6              123   \n",
       "1                      0              243.4              114   \n",
       "2                      0              299.4               71   \n",
       "3                      0              166.7              113   \n",
       "4                     24              218.2               88   \n",
       "\n",
       "   total_day_charge  total_eve_minutes  total_eve_calls  total_eve_charge  \\\n",
       "0             27.47              195.5              103             16.62   \n",
       "1             41.38              121.2              110             10.30   \n",
       "2             50.90               61.9               88              5.26   \n",
       "3             28.34              148.3              122             12.61   \n",
       "4             37.09              348.5              108             29.62   \n",
       "\n",
       "   total_night_minutes  total_night_calls  total_night_charge  \\\n",
       "0                254.4                103               11.45   \n",
       "1                162.6                104                7.32   \n",
       "2                196.9                 89                8.86   \n",
       "3                186.9                121                8.41   \n",
       "4                212.6                118                9.57   \n",
       "\n",
       "   total_intl_minutes  total_intl_calls  total_intl_charge  \\\n",
       "0                13.7                 3               3.70   \n",
       "1                12.2                 5               3.29   \n",
       "2                 6.6                 7               1.78   \n",
       "3                10.1                 3               2.73   \n",
       "4                 7.5                 7               2.03   \n",
       "\n",
       "   number_customer_service_calls  churn  \n",
       "0                              1      0  \n",
       "1                              0      0  \n",
       "2                              2      0  \n",
       "3                              3      0  \n",
       "4                              3      0  "
      ]
     },
     "execution_count": 16,
     "metadata": {},
     "output_type": "execute_result"
    }
   ],
   "source": [
    "df_train.head()"
   ]
  },
  {
   "cell_type": "code",
   "execution_count": 18,
   "metadata": {},
   "outputs": [
    {
     "data": {
      "text/plain": [
       "1    2108\n",
       "0    1086\n",
       "2    1056\n",
       "Name: area_code, dtype: int64"
      ]
     },
     "execution_count": 18,
     "metadata": {},
     "output_type": "execute_result"
    }
   ],
   "source": [
    "df_train['area_code'].value_counts()"
   ]
  },
  {
   "cell_type": "code",
   "execution_count": 19,
   "metadata": {},
   "outputs": [],
   "source": [
    "# one hot encode the state feature\n",
    "one_hot_encode_state = pd.get_dummies(df_train['state'])\n",
    "df_train_onehot= pd.concat([df_train,one_hot_encode_state],axis=1)\n",
    "df_train_onehot.drop('state',axis = 1, inplace = True)"
   ]
  },
  {
   "cell_type": "code",
   "execution_count": 20,
   "metadata": {},
   "outputs": [
    {
     "data": {
      "text/html": [
       "<div>\n",
       "<style scoped>\n",
       "    .dataframe tbody tr th:only-of-type {\n",
       "        vertical-align: middle;\n",
       "    }\n",
       "\n",
       "    .dataframe tbody tr th {\n",
       "        vertical-align: top;\n",
       "    }\n",
       "\n",
       "    .dataframe thead th {\n",
       "        text-align: right;\n",
       "    }\n",
       "</style>\n",
       "<table border=\"1\" class=\"dataframe\">\n",
       "  <thead>\n",
       "    <tr style=\"text-align: right;\">\n",
       "      <th></th>\n",
       "      <th>account_length</th>\n",
       "      <th>area_code</th>\n",
       "      <th>international_plan</th>\n",
       "      <th>voice_mail_plan</th>\n",
       "      <th>number_vmail_messages</th>\n",
       "      <th>total_day_minutes</th>\n",
       "      <th>total_day_calls</th>\n",
       "      <th>total_day_charge</th>\n",
       "      <th>total_eve_minutes</th>\n",
       "      <th>total_eve_calls</th>\n",
       "      <th>...</th>\n",
       "      <th>SD</th>\n",
       "      <th>TN</th>\n",
       "      <th>TX</th>\n",
       "      <th>UT</th>\n",
       "      <th>VA</th>\n",
       "      <th>VT</th>\n",
       "      <th>WA</th>\n",
       "      <th>WI</th>\n",
       "      <th>WV</th>\n",
       "      <th>WY</th>\n",
       "    </tr>\n",
       "  </thead>\n",
       "  <tbody>\n",
       "    <tr>\n",
       "      <th>0</th>\n",
       "      <td>107</td>\n",
       "      <td>1</td>\n",
       "      <td>0</td>\n",
       "      <td>1</td>\n",
       "      <td>26</td>\n",
       "      <td>161.6</td>\n",
       "      <td>123</td>\n",
       "      <td>27.47</td>\n",
       "      <td>195.5</td>\n",
       "      <td>103</td>\n",
       "      <td>...</td>\n",
       "      <td>0</td>\n",
       "      <td>0</td>\n",
       "      <td>0</td>\n",
       "      <td>0</td>\n",
       "      <td>0</td>\n",
       "      <td>0</td>\n",
       "      <td>0</td>\n",
       "      <td>0</td>\n",
       "      <td>0</td>\n",
       "      <td>0</td>\n",
       "    </tr>\n",
       "    <tr>\n",
       "      <th>1</th>\n",
       "      <td>137</td>\n",
       "      <td>1</td>\n",
       "      <td>0</td>\n",
       "      <td>0</td>\n",
       "      <td>0</td>\n",
       "      <td>243.4</td>\n",
       "      <td>114</td>\n",
       "      <td>41.38</td>\n",
       "      <td>121.2</td>\n",
       "      <td>110</td>\n",
       "      <td>...</td>\n",
       "      <td>0</td>\n",
       "      <td>0</td>\n",
       "      <td>0</td>\n",
       "      <td>0</td>\n",
       "      <td>0</td>\n",
       "      <td>0</td>\n",
       "      <td>0</td>\n",
       "      <td>0</td>\n",
       "      <td>0</td>\n",
       "      <td>0</td>\n",
       "    </tr>\n",
       "    <tr>\n",
       "      <th>2</th>\n",
       "      <td>84</td>\n",
       "      <td>0</td>\n",
       "      <td>1</td>\n",
       "      <td>0</td>\n",
       "      <td>0</td>\n",
       "      <td>299.4</td>\n",
       "      <td>71</td>\n",
       "      <td>50.90</td>\n",
       "      <td>61.9</td>\n",
       "      <td>88</td>\n",
       "      <td>...</td>\n",
       "      <td>0</td>\n",
       "      <td>0</td>\n",
       "      <td>0</td>\n",
       "      <td>0</td>\n",
       "      <td>0</td>\n",
       "      <td>0</td>\n",
       "      <td>0</td>\n",
       "      <td>0</td>\n",
       "      <td>0</td>\n",
       "      <td>0</td>\n",
       "    </tr>\n",
       "    <tr>\n",
       "      <th>3</th>\n",
       "      <td>75</td>\n",
       "      <td>1</td>\n",
       "      <td>1</td>\n",
       "      <td>0</td>\n",
       "      <td>0</td>\n",
       "      <td>166.7</td>\n",
       "      <td>113</td>\n",
       "      <td>28.34</td>\n",
       "      <td>148.3</td>\n",
       "      <td>122</td>\n",
       "      <td>...</td>\n",
       "      <td>0</td>\n",
       "      <td>0</td>\n",
       "      <td>0</td>\n",
       "      <td>0</td>\n",
       "      <td>0</td>\n",
       "      <td>0</td>\n",
       "      <td>0</td>\n",
       "      <td>0</td>\n",
       "      <td>0</td>\n",
       "      <td>0</td>\n",
       "    </tr>\n",
       "    <tr>\n",
       "      <th>4</th>\n",
       "      <td>121</td>\n",
       "      <td>2</td>\n",
       "      <td>0</td>\n",
       "      <td>1</td>\n",
       "      <td>24</td>\n",
       "      <td>218.2</td>\n",
       "      <td>88</td>\n",
       "      <td>37.09</td>\n",
       "      <td>348.5</td>\n",
       "      <td>108</td>\n",
       "      <td>...</td>\n",
       "      <td>0</td>\n",
       "      <td>0</td>\n",
       "      <td>0</td>\n",
       "      <td>0</td>\n",
       "      <td>0</td>\n",
       "      <td>0</td>\n",
       "      <td>0</td>\n",
       "      <td>0</td>\n",
       "      <td>0</td>\n",
       "      <td>0</td>\n",
       "    </tr>\n",
       "  </tbody>\n",
       "</table>\n",
       "<p>5 rows × 70 columns</p>\n",
       "</div>"
      ],
      "text/plain": [
       "   account_length  area_code  international_plan  voice_mail_plan  \\\n",
       "0             107          1                   0                1   \n",
       "1             137          1                   0                0   \n",
       "2              84          0                   1                0   \n",
       "3              75          1                   1                0   \n",
       "4             121          2                   0                1   \n",
       "\n",
       "   number_vmail_messages  total_day_minutes  total_day_calls  \\\n",
       "0                     26              161.6              123   \n",
       "1                      0              243.4              114   \n",
       "2                      0              299.4               71   \n",
       "3                      0              166.7              113   \n",
       "4                     24              218.2               88   \n",
       "\n",
       "   total_day_charge  total_eve_minutes  total_eve_calls  ...  SD  TN  TX  UT  \\\n",
       "0             27.47              195.5              103  ...   0   0   0   0   \n",
       "1             41.38              121.2              110  ...   0   0   0   0   \n",
       "2             50.90               61.9               88  ...   0   0   0   0   \n",
       "3             28.34              148.3              122  ...   0   0   0   0   \n",
       "4             37.09              348.5              108  ...   0   0   0   0   \n",
       "\n",
       "   VA  VT  WA  WI  WV  WY  \n",
       "0   0   0   0   0   0   0  \n",
       "1   0   0   0   0   0   0  \n",
       "2   0   0   0   0   0   0  \n",
       "3   0   0   0   0   0   0  \n",
       "4   0   0   0   0   0   0  \n",
       "\n",
       "[5 rows x 70 columns]"
      ]
     },
     "execution_count": 20,
     "metadata": {},
     "output_type": "execute_result"
    }
   ],
   "source": [
    "df_train_onehot.head()"
   ]
  },
  {
   "cell_type": "markdown",
   "metadata": {},
   "source": [
    "We now processed all categories variables. However, since we convert the state feature to one hot encoded feature, we end up with a high-dimensal feature matrix and could be computationally expensive. Thus, the next step is performing feature extraction using principal component analysis (PCA)"
   ]
  },
  {
   "cell_type": "markdown",
   "metadata": {},
   "source": [
    "### Train test split"
   ]
  },
  {
   "cell_type": "markdown",
   "metadata": {},
   "source": [
    "Split data to train and test sets with stratify to ensure the ratio of target labels are the same in both sets."
   ]
  },
  {
   "cell_type": "code",
   "execution_count": 21,
   "metadata": {},
   "outputs": [
    {
     "data": {
      "text/plain": [
       "((3400, 69), (850, 69))"
      ]
     },
     "execution_count": 21,
     "metadata": {},
     "output_type": "execute_result"
    }
   ],
   "source": [
    "X = df_train_onehot.drop('churn', axis=1)\n",
    "y = df_train_onehot['churn']\n",
    "X_train, X_test, y_train, y_test = train_test_split(X, y, test_size=0.2, random_state=5, stratify = y)\n",
    "X_train.shape, X_test.shape"
   ]
  },
  {
   "cell_type": "code",
   "execution_count": 22,
   "metadata": {},
   "outputs": [
    {
     "data": {
      "text/plain": [
       "0    0.859412\n",
       "1    0.140588\n",
       "Name: churn, dtype: float64"
      ]
     },
     "execution_count": 22,
     "metadata": {},
     "output_type": "execute_result"
    }
   ],
   "source": [
    "y_train.value_counts(normalize=True)"
   ]
  },
  {
   "cell_type": "code",
   "execution_count": 23,
   "metadata": {},
   "outputs": [
    {
     "data": {
      "text/plain": [
       "0    0.858824\n",
       "1    0.141176\n",
       "Name: churn, dtype: float64"
      ]
     },
     "execution_count": 23,
     "metadata": {},
     "output_type": "execute_result"
    }
   ],
   "source": [
    "y_test.value_counts(normalize=True)"
   ]
  },
  {
   "cell_type": "markdown",
   "metadata": {},
   "source": [
    "### Data normalization"
   ]
  },
  {
   "cell_type": "markdown",
   "metadata": {},
   "source": [
    "Before perfroming feature extraction, we will need to scale the data. Here, we will use the StandardScaler to remove the mean and scale to the unit variance"
   ]
  },
  {
   "cell_type": "code",
   "execution_count": 25,
   "metadata": {},
   "outputs": [],
   "source": [
    "scaler = StandardScaler()\n",
    "X_train_scaled = scaler.fit_transform(X_train)\n",
    "X_test_scaled = scaler.transform(X_test)"
   ]
  },
  {
   "cell_type": "code",
   "execution_count": 34,
   "metadata": {},
   "outputs": [
    {
     "data": {
      "text/plain": [
       "array([ 1.14940737e-16,  1.35839052e-17,  3.65720526e-17,  1.85472552e-17,\n",
       "        3.65720526e-18, -3.13474736e-16, -2.69588273e-16, -2.12117905e-16,\n",
       "       -2.87874300e-16, -1.45243295e-16,  2.92576421e-17,  7.62788525e-17,\n",
       "       -2.97801000e-16, -6.67178731e-16,  1.52557705e-16, -4.59762947e-17,\n",
       "       -7.47114788e-16, -3.86618842e-17,  3.55271368e-17,  1.25389895e-17,\n",
       "       -3.70945105e-17,  5.01559578e-17, -3.44822210e-17,  3.44822210e-17,\n",
       "       -1.09716158e-17, -4.59762947e-17,  3.76169684e-17, -1.88084842e-17,\n",
       "        0.00000000e+00, -8.35932630e-18,  0.00000000e+00,  2.82127263e-17,\n",
       "       -7.31441052e-18,  6.26949473e-18, -4.02292578e-17, -4.17966315e-18,\n",
       "        4.17966315e-18,  1.77635684e-17, -1.35839052e-17,  2.84739552e-17,\n",
       "       -1.67186526e-17,  4.59762947e-17,  4.17966315e-17, -5.22457894e-19,\n",
       "       -3.08250157e-17, -5.22457894e-18, -3.44822210e-17,  1.46288210e-17,\n",
       "        3.76169684e-17, -7.57563946e-18,  4.17966315e-17,  1.04491579e-18,\n",
       "        0.00000000e+00, -1.56737368e-17, -4.20578605e-17,  1.09716158e-17,\n",
       "        9.40424209e-18, -1.67186526e-17, -8.35932630e-18,  4.38864631e-17,\n",
       "        3.03025578e-17,  1.25389895e-17, -1.25389895e-17, -1.35839052e-17,\n",
       "       -1.04491579e-17, -4.17966315e-18,  0.00000000e+00,  3.29148473e-17,\n",
       "       -1.04491579e-17])"
      ]
     },
     "execution_count": 34,
     "metadata": {},
     "output_type": "execute_result"
    }
   ],
   "source": [
    "feature_name = scaler.get_feature_names_out()\n",
    "np.mean(X_train_scaled,axis=0)"
   ]
  },
  {
   "cell_type": "markdown",
   "metadata": {},
   "source": [
    "### Data augmentation for minority class"
   ]
  },
  {
   "cell_type": "markdown",
   "metadata": {},
   "source": [
    "Here, the dataset is imbalanced and will require special technique to balance the dataset. Here, we will implement two main techniques: SMOTE and SMOTE+TOMEK from imbalanced-learn library."
   ]
  },
  {
   "cell_type": "code",
   "execution_count": 38,
   "metadata": {},
   "outputs": [
    {
     "name": "stdout",
     "output_type": "stream",
     "text": [
      "Counter({0: 2922, 1: 2922})\n"
     ]
    }
   ],
   "source": [
    "sm =  imblearn.over_sampling.SMOTE(random_state = 45)\n",
    "X_train_sm, y_train_sm = sm.fit_resample(X_train_scaled, y_train)\n",
    "print(Counter(y_train_sm))"
   ]
  },
  {
   "cell_type": "code",
   "execution_count": 39,
   "metadata": {},
   "outputs": [
    {
     "name": "stdout",
     "output_type": "stream",
     "text": [
      "Counter({0: 2919, 1: 2919})\n"
     ]
    }
   ],
   "source": [
    "smt =  imblearn.combine.SMOTETomek(random_state = 45)\n",
    "X_train_smt, y_train_smt = smt.fit_resample(X_train_scaled, y_train)\n",
    "print(Counter(y_train_smt))"
   ]
  },
  {
   "cell_type": "markdown",
   "metadata": {},
   "source": [
    "Check mean and standard deviation of the train dataset after data augmentation"
   ]
  },
  {
   "cell_type": "code",
   "execution_count": 66,
   "metadata": {},
   "outputs": [
    {
     "data": {
      "text/plain": [
       "array([ 2.64886849e-02,  1.24536716e-02,  2.07210072e-01, -1.38862246e-01,\n",
       "       -1.24278697e-01,  2.67443594e-01,  6.15203676e-03,  2.67433878e-01,\n",
       "        1.06847586e-01, -1.18081783e-02,  1.06845020e-01,  5.89648847e-02,\n",
       "       -1.78641084e-02,  5.89691083e-02,  4.68638439e-02, -3.17709219e-02,\n",
       "        4.68329574e-02,  2.09055941e-01, -3.88483247e-02,  9.54362728e-03,\n",
       "        1.57916390e-02, -3.69826217e-02,  3.36388427e-02, -2.28733762e-02,\n",
       "        2.58140217e-02, -1.20671198e-02,  1.30942637e-02,  4.39031883e-03,\n",
       "        2.92671496e-03, -3.98906057e-02,  8.36204273e-05, -3.33263435e-02,\n",
       "       -4.15346324e-02,  5.36044552e-03,  9.70292058e-03,  9.06129140e-04,\n",
       "       -2.75947410e-03,  7.18851198e-03,  3.19252958e-02,  2.16844130e-02,\n",
       "       -7.18685832e-03,  1.12153989e-02,  1.69542902e-02,  2.13990447e-02,\n",
       "        3.78995327e-02, -2.79651902e-02, -2.00385972e-02, -4.01227728e-02,\n",
       "        6.64127712e-03,  4.72320568e-02,  6.70003484e-03,  2.64355083e-02,\n",
       "        9.46448348e-04,  6.77962246e-03,  7.72499650e-03,  3.11409308e-03,\n",
       "       -5.15237107e-03, -2.63251317e-02,  1.20635971e-02, -3.67173599e-03,\n",
       "        7.32437499e-03,  1.07916577e-02, -7.79885170e-05, -4.05035015e-02,\n",
       "       -2.50380058e-02,  4.90995941e-02, -4.22065459e-02,  1.49345717e-02,\n",
       "        1.71207407e-03])"
      ]
     },
     "execution_count": 66,
     "metadata": {},
     "output_type": "execute_result"
    }
   ],
   "source": [
    "np.mean(X_train_sm,axis=0)"
   ]
  },
  {
   "cell_type": "code",
   "execution_count": 67,
   "metadata": {},
   "outputs": [
    {
     "data": {
      "text/plain": [
       "array([0.92664512, 0.94696191, 1.13499575, 0.87120512, 0.87944087,\n",
       "       1.07925265, 0.94077354, 1.0792569 , 0.94538876, 0.92336375,\n",
       "       0.94539177, 0.92069182, 0.92703989, 0.92068429, 0.93219346,\n",
       "       0.93005122, 0.93211612, 1.10829822, 0.81771509, 1.02652274,\n",
       "       1.05817625, 0.85071358, 1.15333857, 0.91658322, 1.08459397,\n",
       "       0.95204998, 1.04453453, 1.01567529, 1.01172628, 0.84769499,\n",
       "       1.00033706, 0.8927392 , 0.83044982, 1.01676131, 1.03143137,\n",
       "       1.00322949, 0.98880849, 1.02451474, 1.10358375, 1.06946994,\n",
       "       0.97502156, 1.02952746, 1.05964955, 1.07288126, 1.12365404,\n",
       "       0.89858591, 0.9154331 , 0.82518833, 1.02381331, 1.14064308,\n",
       "       1.02488581, 1.08926478, 1.00309675, 1.02135183, 1.02890018,\n",
       "       1.00967209, 0.97921246, 0.90455675, 1.04246192, 0.98656854,\n",
       "       1.02668869, 1.03325627, 0.99975146, 0.85460719, 0.91519021,\n",
       "       1.15986034, 0.85033228, 1.02466697, 1.00164983])"
      ]
     },
     "execution_count": 67,
     "metadata": {},
     "output_type": "execute_result"
    }
   ],
   "source": [
    "np.std(X_train_sm,axis=0)"
   ]
  },
  {
   "cell_type": "markdown",
   "metadata": {},
   "source": [
    "### Logistic Model"
   ]
  },
  {
   "cell_type": "code",
   "execution_count": 337,
   "metadata": {},
   "outputs": [],
   "source": [
    "### Hyperparameter tuning:\n",
    "def tuning(model, X_train,X_test,y_train,y_test, param_grid,\n",
    "           data_preprocess = 'NaN',modelname = 'Model', verbose_setting = 0):\n",
    "    print('\\n Parameter tuning:\\n')\n",
    "\n",
    "    grid_search = GridSearchCV(model, param_grid, cv=5,scoring='f1', verbose = verbose_setting)\n",
    "    grid_search.fit(X_train, y_train)\n",
    "    # Get the best combination of hyperparameters\n",
    "    best_params = grid_search.best_params_\n",
    "    # Get the prediction\n",
    "    y_pred = grid_search.predict(X_test)\n",
    "    # Get the score:\n",
    "    precision = precision_score(y_test, y_pred)\n",
    "    recall = recall_score(y_test, y_pred)\n",
    "    f1 = f1_score(y_test, y_pred)\n",
    "    accuracy = accuracy_score(y_test, y_pred)\n",
    "    print(classification_report(y_test, y_pred))\n",
    "    print('Best parameters:',best_params)\n",
    "    results ={'model':modelname, 'data_preprocess':data_preprocess,'precision':precision,'recall':recall,'f1':f1, 'accuracy': accuracy}\n",
    "    return best_params, results"
   ]
  },
  {
   "cell_type": "code",
   "execution_count": 304,
   "metadata": {},
   "outputs": [],
   "source": [
    "model_lg = LogisticRegression(solver='lbfgs')\n",
    "model_lg.fit(X_train_scaled, y_train)\n",
    "y_pred = model_lg.predict(X_test_scaled)"
   ]
  },
  {
   "cell_type": "code",
   "execution_count": 305,
   "metadata": {},
   "outputs": [
    {
     "name": "stdout",
     "output_type": "stream",
     "text": [
      "              precision    recall  f1-score   support\n",
      "\n",
      "           0       0.89      0.98      0.93       730\n",
      "           1       0.68      0.25      0.37       120\n",
      "\n",
      "    accuracy                           0.88       850\n",
      "   macro avg       0.79      0.62      0.65       850\n",
      "weighted avg       0.86      0.88      0.85       850\n",
      "\n"
     ]
    }
   ],
   "source": [
    "print(classification_report(y_test, y_pred))"
   ]
  },
  {
   "cell_type": "code",
   "execution_count": 306,
   "metadata": {},
   "outputs": [
    {
     "name": "stderr",
     "output_type": "stream",
     "text": [
      "C:\\Users\\vanan\\Anaconda3\\lib\\site-packages\\sklearn\\linear_model\\_logistic.py:1484: UserWarning: Setting penalty='none' will ignore the C and l1_ratio parameters\n",
      "  \"Setting penalty='none' will ignore the C and l1_ratio parameters\"\n",
      "C:\\Users\\vanan\\Anaconda3\\lib\\site-packages\\sklearn\\linear_model\\_logistic.py:1484: UserWarning: Setting penalty='none' will ignore the C and l1_ratio parameters\n",
      "  \"Setting penalty='none' will ignore the C and l1_ratio parameters\"\n",
      "C:\\Users\\vanan\\Anaconda3\\lib\\site-packages\\sklearn\\linear_model\\_logistic.py:1484: UserWarning: Setting penalty='none' will ignore the C and l1_ratio parameters\n",
      "  \"Setting penalty='none' will ignore the C and l1_ratio parameters\"\n",
      "C:\\Users\\vanan\\Anaconda3\\lib\\site-packages\\sklearn\\linear_model\\_logistic.py:1484: UserWarning: Setting penalty='none' will ignore the C and l1_ratio parameters\n",
      "  \"Setting penalty='none' will ignore the C and l1_ratio parameters\"\n",
      "C:\\Users\\vanan\\Anaconda3\\lib\\site-packages\\sklearn\\linear_model\\_logistic.py:1484: UserWarning: Setting penalty='none' will ignore the C and l1_ratio parameters\n",
      "  \"Setting penalty='none' will ignore the C and l1_ratio parameters\"\n",
      "C:\\Users\\vanan\\Anaconda3\\lib\\site-packages\\sklearn\\linear_model\\_logistic.py:1484: UserWarning: Setting penalty='none' will ignore the C and l1_ratio parameters\n",
      "  \"Setting penalty='none' will ignore the C and l1_ratio parameters\"\n",
      "C:\\Users\\vanan\\Anaconda3\\lib\\site-packages\\sklearn\\linear_model\\_logistic.py:818: ConvergenceWarning: lbfgs failed to converge (status=1):\n",
      "STOP: TOTAL NO. of ITERATIONS REACHED LIMIT.\n",
      "\n",
      "Increase the number of iterations (max_iter) or scale the data as shown in:\n",
      "    https://scikit-learn.org/stable/modules/preprocessing.html\n",
      "Please also refer to the documentation for alternative solver options:\n",
      "    https://scikit-learn.org/stable/modules/linear_model.html#logistic-regression\n",
      "  extra_warning_msg=_LOGISTIC_SOLVER_CONVERGENCE_MSG,\n",
      "C:\\Users\\vanan\\Anaconda3\\lib\\site-packages\\sklearn\\linear_model\\_logistic.py:1484: UserWarning: Setting penalty='none' will ignore the C and l1_ratio parameters\n",
      "  \"Setting penalty='none' will ignore the C and l1_ratio parameters\"\n",
      "C:\\Users\\vanan\\Anaconda3\\lib\\site-packages\\sklearn\\linear_model\\_logistic.py:1484: UserWarning: Setting penalty='none' will ignore the C and l1_ratio parameters\n",
      "  \"Setting penalty='none' will ignore the C and l1_ratio parameters\"\n",
      "C:\\Users\\vanan\\Anaconda3\\lib\\site-packages\\sklearn\\linear_model\\_logistic.py:1484: UserWarning: Setting penalty='none' will ignore the C and l1_ratio parameters\n",
      "  \"Setting penalty='none' will ignore the C and l1_ratio parameters\"\n",
      "C:\\Users\\vanan\\Anaconda3\\lib\\site-packages\\sklearn\\linear_model\\_logistic.py:1484: UserWarning: Setting penalty='none' will ignore the C and l1_ratio parameters\n",
      "  \"Setting penalty='none' will ignore the C and l1_ratio parameters\"\n",
      "C:\\Users\\vanan\\Anaconda3\\lib\\site-packages\\sklearn\\linear_model\\_logistic.py:1484: UserWarning: Setting penalty='none' will ignore the C and l1_ratio parameters\n",
      "  \"Setting penalty='none' will ignore the C and l1_ratio parameters\"\n",
      "C:\\Users\\vanan\\Anaconda3\\lib\\site-packages\\sklearn\\linear_model\\_logistic.py:1484: UserWarning: Setting penalty='none' will ignore the C and l1_ratio parameters\n",
      "  \"Setting penalty='none' will ignore the C and l1_ratio parameters\"\n",
      "C:\\Users\\vanan\\Anaconda3\\lib\\site-packages\\sklearn\\linear_model\\_logistic.py:1484: UserWarning: Setting penalty='none' will ignore the C and l1_ratio parameters\n",
      "  \"Setting penalty='none' will ignore the C and l1_ratio parameters\"\n",
      "C:\\Users\\vanan\\Anaconda3\\lib\\site-packages\\sklearn\\linear_model\\_logistic.py:1484: UserWarning: Setting penalty='none' will ignore the C and l1_ratio parameters\n",
      "  \"Setting penalty='none' will ignore the C and l1_ratio parameters\"\n",
      "C:\\Users\\vanan\\Anaconda3\\lib\\site-packages\\sklearn\\linear_model\\_logistic.py:1484: UserWarning: Setting penalty='none' will ignore the C and l1_ratio parameters\n",
      "  \"Setting penalty='none' will ignore the C and l1_ratio parameters\"\n",
      "C:\\Users\\vanan\\Anaconda3\\lib\\site-packages\\sklearn\\linear_model\\_logistic.py:1484: UserWarning: Setting penalty='none' will ignore the C and l1_ratio parameters\n",
      "  \"Setting penalty='none' will ignore the C and l1_ratio parameters\"\n",
      "C:\\Users\\vanan\\Anaconda3\\lib\\site-packages\\sklearn\\linear_model\\_logistic.py:1484: UserWarning: Setting penalty='none' will ignore the C and l1_ratio parameters\n",
      "  \"Setting penalty='none' will ignore the C and l1_ratio parameters\"\n",
      "C:\\Users\\vanan\\Anaconda3\\lib\\site-packages\\sklearn\\linear_model\\_logistic.py:1484: UserWarning: Setting penalty='none' will ignore the C and l1_ratio parameters\n",
      "  \"Setting penalty='none' will ignore the C and l1_ratio parameters\"\n",
      "C:\\Users\\vanan\\Anaconda3\\lib\\site-packages\\sklearn\\linear_model\\_logistic.py:1484: UserWarning: Setting penalty='none' will ignore the C and l1_ratio parameters\n",
      "  \"Setting penalty='none' will ignore the C and l1_ratio parameters\"\n",
      "C:\\Users\\vanan\\Anaconda3\\lib\\site-packages\\sklearn\\linear_model\\_logistic.py:1484: UserWarning: Setting penalty='none' will ignore the C and l1_ratio parameters\n",
      "  \"Setting penalty='none' will ignore the C and l1_ratio parameters\"\n",
      "C:\\Users\\vanan\\Anaconda3\\lib\\site-packages\\sklearn\\linear_model\\_logistic.py:818: ConvergenceWarning: lbfgs failed to converge (status=1):\n",
      "STOP: TOTAL NO. of ITERATIONS REACHED LIMIT.\n",
      "\n",
      "Increase the number of iterations (max_iter) or scale the data as shown in:\n",
      "    https://scikit-learn.org/stable/modules/preprocessing.html\n",
      "Please also refer to the documentation for alternative solver options:\n",
      "    https://scikit-learn.org/stable/modules/linear_model.html#logistic-regression\n",
      "  extra_warning_msg=_LOGISTIC_SOLVER_CONVERGENCE_MSG,\n",
      "C:\\Users\\vanan\\Anaconda3\\lib\\site-packages\\sklearn\\linear_model\\_logistic.py:1484: UserWarning: Setting penalty='none' will ignore the C and l1_ratio parameters\n",
      "  \"Setting penalty='none' will ignore the C and l1_ratio parameters\"\n",
      "C:\\Users\\vanan\\Anaconda3\\lib\\site-packages\\sklearn\\linear_model\\_logistic.py:1484: UserWarning: Setting penalty='none' will ignore the C and l1_ratio parameters\n",
      "  \"Setting penalty='none' will ignore the C and l1_ratio parameters\"\n",
      "C:\\Users\\vanan\\Anaconda3\\lib\\site-packages\\sklearn\\linear_model\\_logistic.py:1484: UserWarning: Setting penalty='none' will ignore the C and l1_ratio parameters\n",
      "  \"Setting penalty='none' will ignore the C and l1_ratio parameters\"\n",
      "C:\\Users\\vanan\\Anaconda3\\lib\\site-packages\\sklearn\\linear_model\\_logistic.py:1484: UserWarning: Setting penalty='none' will ignore the C and l1_ratio parameters\n",
      "  \"Setting penalty='none' will ignore the C and l1_ratio parameters\"\n",
      "C:\\Users\\vanan\\Anaconda3\\lib\\site-packages\\sklearn\\linear_model\\_logistic.py:1484: UserWarning: Setting penalty='none' will ignore the C and l1_ratio parameters\n",
      "  \"Setting penalty='none' will ignore the C and l1_ratio parameters\"\n",
      "C:\\Users\\vanan\\Anaconda3\\lib\\site-packages\\sklearn\\linear_model\\_logistic.py:1484: UserWarning: Setting penalty='none' will ignore the C and l1_ratio parameters\n",
      "  \"Setting penalty='none' will ignore the C and l1_ratio parameters\"\n",
      "C:\\Users\\vanan\\Anaconda3\\lib\\site-packages\\sklearn\\linear_model\\_logistic.py:818: ConvergenceWarning: lbfgs failed to converge (status=1):\n",
      "STOP: TOTAL NO. of ITERATIONS REACHED LIMIT.\n",
      "\n",
      "Increase the number of iterations (max_iter) or scale the data as shown in:\n",
      "    https://scikit-learn.org/stable/modules/preprocessing.html\n",
      "Please also refer to the documentation for alternative solver options:\n",
      "    https://scikit-learn.org/stable/modules/linear_model.html#logistic-regression\n",
      "  extra_warning_msg=_LOGISTIC_SOLVER_CONVERGENCE_MSG,\n",
      "C:\\Users\\vanan\\Anaconda3\\lib\\site-packages\\sklearn\\linear_model\\_logistic.py:1484: UserWarning: Setting penalty='none' will ignore the C and l1_ratio parameters\n",
      "  \"Setting penalty='none' will ignore the C and l1_ratio parameters\"\n",
      "C:\\Users\\vanan\\Anaconda3\\lib\\site-packages\\sklearn\\linear_model\\_logistic.py:1484: UserWarning: Setting penalty='none' will ignore the C and l1_ratio parameters\n",
      "  \"Setting penalty='none' will ignore the C and l1_ratio parameters\"\n",
      "C:\\Users\\vanan\\Anaconda3\\lib\\site-packages\\sklearn\\linear_model\\_logistic.py:1484: UserWarning: Setting penalty='none' will ignore the C and l1_ratio parameters\n",
      "  \"Setting penalty='none' will ignore the C and l1_ratio parameters\"\n",
      "C:\\Users\\vanan\\Anaconda3\\lib\\site-packages\\sklearn\\linear_model\\_logistic.py:1484: UserWarning: Setting penalty='none' will ignore the C and l1_ratio parameters\n",
      "  \"Setting penalty='none' will ignore the C and l1_ratio parameters\"\n"
     ]
    },
    {
     "name": "stderr",
     "output_type": "stream",
     "text": [
      "C:\\Users\\vanan\\Anaconda3\\lib\\site-packages\\sklearn\\linear_model\\_logistic.py:1484: UserWarning: Setting penalty='none' will ignore the C and l1_ratio parameters\n",
      "  \"Setting penalty='none' will ignore the C and l1_ratio parameters\"\n",
      "C:\\Users\\vanan\\Anaconda3\\lib\\site-packages\\sklearn\\linear_model\\_logistic.py:1484: UserWarning: Setting penalty='none' will ignore the C and l1_ratio parameters\n",
      "  \"Setting penalty='none' will ignore the C and l1_ratio parameters\"\n",
      "C:\\Users\\vanan\\Anaconda3\\lib\\site-packages\\sklearn\\linear_model\\_logistic.py:1484: UserWarning: Setting penalty='none' will ignore the C and l1_ratio parameters\n",
      "  \"Setting penalty='none' will ignore the C and l1_ratio parameters\"\n",
      "C:\\Users\\vanan\\Anaconda3\\lib\\site-packages\\sklearn\\linear_model\\_logistic.py:1484: UserWarning: Setting penalty='none' will ignore the C and l1_ratio parameters\n",
      "  \"Setting penalty='none' will ignore the C and l1_ratio parameters\"\n",
      "C:\\Users\\vanan\\Anaconda3\\lib\\site-packages\\sklearn\\linear_model\\_logistic.py:1484: UserWarning: Setting penalty='none' will ignore the C and l1_ratio parameters\n",
      "  \"Setting penalty='none' will ignore the C and l1_ratio parameters\"\n"
     ]
    },
    {
     "name": "stdout",
     "output_type": "stream",
     "text": [
      "              precision    recall  f1-score   support\n",
      "\n",
      "           0       0.93      0.84      0.88       730\n",
      "           1       0.39      0.64      0.49       120\n",
      "\n",
      "    accuracy                           0.81       850\n",
      "   macro avg       0.66      0.74      0.68       850\n",
      "weighted avg       0.86      0.81      0.83       850\n",
      "\n"
     ]
    },
    {
     "name": "stderr",
     "output_type": "stream",
     "text": [
      "C:\\Users\\vanan\\Anaconda3\\lib\\site-packages\\sklearn\\linear_model\\_logistic.py:1484: UserWarning: Setting penalty='none' will ignore the C and l1_ratio parameters\n",
      "  \"Setting penalty='none' will ignore the C and l1_ratio parameters\"\n",
      "C:\\Users\\vanan\\Anaconda3\\lib\\site-packages\\sklearn\\linear_model\\_logistic.py:1484: UserWarning: Setting penalty='none' will ignore the C and l1_ratio parameters\n",
      "  \"Setting penalty='none' will ignore the C and l1_ratio parameters\"\n",
      "C:\\Users\\vanan\\Anaconda3\\lib\\site-packages\\sklearn\\linear_model\\_logistic.py:1484: UserWarning: Setting penalty='none' will ignore the C and l1_ratio parameters\n",
      "  \"Setting penalty='none' will ignore the C and l1_ratio parameters\"\n",
      "C:\\Users\\vanan\\Anaconda3\\lib\\site-packages\\sklearn\\linear_model\\_logistic.py:1484: UserWarning: Setting penalty='none' will ignore the C and l1_ratio parameters\n",
      "  \"Setting penalty='none' will ignore the C and l1_ratio parameters\"\n",
      "C:\\Users\\vanan\\Anaconda3\\lib\\site-packages\\sklearn\\linear_model\\_logistic.py:1484: UserWarning: Setting penalty='none' will ignore the C and l1_ratio parameters\n",
      "  \"Setting penalty='none' will ignore the C and l1_ratio parameters\"\n"
     ]
    }
   ],
   "source": [
    "# Specify the hyperparameter grid\n",
    "param_grid = {'penalty': ['l2','none'],\n",
    "              'C': [0.1, 1, 10],\n",
    "              'class_weight': [{0: 1, 1: 4}, {0: 1, 1: 3}, {0: 1, 1: 1},{0:1,1:10}]}\n",
    "params_lg, results_lg = tuning(model_lg, \n",
    "                    X_train_scaled, X_test_scaled,\n",
    "                    y_train,y_test, param_grid,\n",
    "                    data_preprocess = 'NaN',modelname='Logistic Regression')"
   ]
  },
  {
   "cell_type": "code",
   "execution_count": 309,
   "metadata": {},
   "outputs": [
    {
     "name": "stdout",
     "output_type": "stream",
     "text": [
      "{'C': 10, 'class_weight': {0: 1, 1: 4}, 'penalty': 'l2'}\n"
     ]
    },
    {
     "data": {
      "text/plain": [
       "{'model': 'Logistic Regression',\n",
       " 'data_preprocess': 'NaN',\n",
       " 'precision': 0.39086294416243655,\n",
       " 'recall': 0.6416666666666667,\n",
       " 'f1': 0.4858044164037855,\n",
       " 'accuracy': 0.808235294117647}"
      ]
     },
     "execution_count": 309,
     "metadata": {},
     "output_type": "execute_result"
    }
   ],
   "source": [
    "print(params_lg)\n",
    "results_lg"
   ]
  },
  {
   "cell_type": "markdown",
   "metadata": {},
   "source": [
    "For SMOTE train dataset"
   ]
  },
  {
   "cell_type": "code",
   "execution_count": 314,
   "metadata": {},
   "outputs": [
    {
     "name": "stdout",
     "output_type": "stream",
     "text": [
      "              precision    recall  f1-score   support\n",
      "\n",
      "           0       0.94      0.77      0.85       730\n",
      "           1       0.35      0.72      0.47       120\n",
      "\n",
      "    accuracy                           0.77       850\n",
      "   macro avg       0.65      0.75      0.66       850\n",
      "weighted avg       0.86      0.77      0.80       850\n",
      "\n"
     ]
    }
   ],
   "source": [
    "model_lg_sm = LogisticRegression(solver='lbfgs')\n",
    "model_lg_sm.fit(X_train_sm, y_train_sm)\n",
    "y_pred_sm = model_lg_sm.predict(X_test_scaled)\n",
    "print(classification_report(y_test, y_pred_sm))"
   ]
  },
  {
   "cell_type": "code",
   "execution_count": 326,
   "metadata": {
    "scrolled": true
   },
   "outputs": [
    {
     "name": "stderr",
     "output_type": "stream",
     "text": [
      "C:\\Users\\vanan\\Anaconda3\\lib\\site-packages\\sklearn\\linear_model\\_logistic.py:1484: UserWarning: Setting penalty='none' will ignore the C and l1_ratio parameters\n",
      "  \"Setting penalty='none' will ignore the C and l1_ratio parameters\"\n",
      "C:\\Users\\vanan\\Anaconda3\\lib\\site-packages\\sklearn\\linear_model\\_logistic.py:818: ConvergenceWarning: lbfgs failed to converge (status=1):\n",
      "STOP: TOTAL NO. of ITERATIONS REACHED LIMIT.\n",
      "\n",
      "Increase the number of iterations (max_iter) or scale the data as shown in:\n",
      "    https://scikit-learn.org/stable/modules/preprocessing.html\n",
      "Please also refer to the documentation for alternative solver options:\n",
      "    https://scikit-learn.org/stable/modules/linear_model.html#logistic-regression\n",
      "  extra_warning_msg=_LOGISTIC_SOLVER_CONVERGENCE_MSG,\n",
      "C:\\Users\\vanan\\Anaconda3\\lib\\site-packages\\sklearn\\linear_model\\_logistic.py:1484: UserWarning: Setting penalty='none' will ignore the C and l1_ratio parameters\n",
      "  \"Setting penalty='none' will ignore the C and l1_ratio parameters\"\n",
      "C:\\Users\\vanan\\Anaconda3\\lib\\site-packages\\sklearn\\linear_model\\_logistic.py:1484: UserWarning: Setting penalty='none' will ignore the C and l1_ratio parameters\n",
      "  \"Setting penalty='none' will ignore the C and l1_ratio parameters\"\n",
      "C:\\Users\\vanan\\Anaconda3\\lib\\site-packages\\sklearn\\linear_model\\_logistic.py:1484: UserWarning: Setting penalty='none' will ignore the C and l1_ratio parameters\n",
      "  \"Setting penalty='none' will ignore the C and l1_ratio parameters\"\n",
      "C:\\Users\\vanan\\Anaconda3\\lib\\site-packages\\sklearn\\linear_model\\_logistic.py:1484: UserWarning: Setting penalty='none' will ignore the C and l1_ratio parameters\n",
      "  \"Setting penalty='none' will ignore the C and l1_ratio parameters\"\n",
      "C:\\Users\\vanan\\Anaconda3\\lib\\site-packages\\sklearn\\linear_model\\_logistic.py:1484: UserWarning: Setting penalty='none' will ignore the C and l1_ratio parameters\n",
      "  \"Setting penalty='none' will ignore the C and l1_ratio parameters\"\n",
      "C:\\Users\\vanan\\Anaconda3\\lib\\site-packages\\sklearn\\linear_model\\_logistic.py:1484: UserWarning: Setting penalty='none' will ignore the C and l1_ratio parameters\n",
      "  \"Setting penalty='none' will ignore the C and l1_ratio parameters\"\n",
      "C:\\Users\\vanan\\Anaconda3\\lib\\site-packages\\sklearn\\linear_model\\_logistic.py:1484: UserWarning: Setting penalty='none' will ignore the C and l1_ratio parameters\n",
      "  \"Setting penalty='none' will ignore the C and l1_ratio parameters\"\n",
      "C:\\Users\\vanan\\Anaconda3\\lib\\site-packages\\sklearn\\linear_model\\_logistic.py:1484: UserWarning: Setting penalty='none' will ignore the C and l1_ratio parameters\n",
      "  \"Setting penalty='none' will ignore the C and l1_ratio parameters\"\n",
      "C:\\Users\\vanan\\Anaconda3\\lib\\site-packages\\sklearn\\linear_model\\_logistic.py:1484: UserWarning: Setting penalty='none' will ignore the C and l1_ratio parameters\n",
      "  \"Setting penalty='none' will ignore the C and l1_ratio parameters\"\n",
      "C:\\Users\\vanan\\Anaconda3\\lib\\site-packages\\sklearn\\linear_model\\_logistic.py:1484: UserWarning: Setting penalty='none' will ignore the C and l1_ratio parameters\n",
      "  \"Setting penalty='none' will ignore the C and l1_ratio parameters\"\n",
      "C:\\Users\\vanan\\Anaconda3\\lib\\site-packages\\sklearn\\linear_model\\_logistic.py:1484: UserWarning: Setting penalty='none' will ignore the C and l1_ratio parameters\n",
      "  \"Setting penalty='none' will ignore the C and l1_ratio parameters\"\n",
      "C:\\Users\\vanan\\Anaconda3\\lib\\site-packages\\sklearn\\linear_model\\_logistic.py:1484: UserWarning: Setting penalty='none' will ignore the C and l1_ratio parameters\n",
      "  \"Setting penalty='none' will ignore the C and l1_ratio parameters\"\n",
      "C:\\Users\\vanan\\Anaconda3\\lib\\site-packages\\sklearn\\linear_model\\_logistic.py:1484: UserWarning: Setting penalty='none' will ignore the C and l1_ratio parameters\n",
      "  \"Setting penalty='none' will ignore the C and l1_ratio parameters\"\n",
      "C:\\Users\\vanan\\Anaconda3\\lib\\site-packages\\sklearn\\linear_model\\_logistic.py:1484: UserWarning: Setting penalty='none' will ignore the C and l1_ratio parameters\n",
      "  \"Setting penalty='none' will ignore the C and l1_ratio parameters\"\n",
      "C:\\Users\\vanan\\Anaconda3\\lib\\site-packages\\sklearn\\linear_model\\_logistic.py:1484: UserWarning: Setting penalty='none' will ignore the C and l1_ratio parameters\n",
      "  \"Setting penalty='none' will ignore the C and l1_ratio parameters\"\n",
      "C:\\Users\\vanan\\Anaconda3\\lib\\site-packages\\sklearn\\linear_model\\_logistic.py:1484: UserWarning: Setting penalty='none' will ignore the C and l1_ratio parameters\n",
      "  \"Setting penalty='none' will ignore the C and l1_ratio parameters\"\n",
      "C:\\Users\\vanan\\Anaconda3\\lib\\site-packages\\sklearn\\linear_model\\_logistic.py:1484: UserWarning: Setting penalty='none' will ignore the C and l1_ratio parameters\n",
      "  \"Setting penalty='none' will ignore the C and l1_ratio parameters\"\n",
      "C:\\Users\\vanan\\Anaconda3\\lib\\site-packages\\sklearn\\linear_model\\_logistic.py:1484: UserWarning: Setting penalty='none' will ignore the C and l1_ratio parameters\n",
      "  \"Setting penalty='none' will ignore the C and l1_ratio parameters\"\n",
      "C:\\Users\\vanan\\Anaconda3\\lib\\site-packages\\sklearn\\linear_model\\_logistic.py:1484: UserWarning: Setting penalty='none' will ignore the C and l1_ratio parameters\n",
      "  \"Setting penalty='none' will ignore the C and l1_ratio parameters\"\n",
      "C:\\Users\\vanan\\Anaconda3\\lib\\site-packages\\sklearn\\linear_model\\_logistic.py:818: ConvergenceWarning: lbfgs failed to converge (status=1):\n",
      "STOP: TOTAL NO. of ITERATIONS REACHED LIMIT.\n",
      "\n",
      "Increase the number of iterations (max_iter) or scale the data as shown in:\n",
      "    https://scikit-learn.org/stable/modules/preprocessing.html\n",
      "Please also refer to the documentation for alternative solver options:\n",
      "    https://scikit-learn.org/stable/modules/linear_model.html#logistic-regression\n",
      "  extra_warning_msg=_LOGISTIC_SOLVER_CONVERGENCE_MSG,\n",
      "C:\\Users\\vanan\\Anaconda3\\lib\\site-packages\\sklearn\\linear_model\\_logistic.py:1484: UserWarning: Setting penalty='none' will ignore the C and l1_ratio parameters\n",
      "  \"Setting penalty='none' will ignore the C and l1_ratio parameters\"\n",
      "C:\\Users\\vanan\\Anaconda3\\lib\\site-packages\\sklearn\\linear_model\\_logistic.py:818: ConvergenceWarning: lbfgs failed to converge (status=1):\n",
      "STOP: TOTAL NO. of ITERATIONS REACHED LIMIT.\n",
      "\n",
      "Increase the number of iterations (max_iter) or scale the data as shown in:\n",
      "    https://scikit-learn.org/stable/modules/preprocessing.html\n",
      "Please also refer to the documentation for alternative solver options:\n",
      "    https://scikit-learn.org/stable/modules/linear_model.html#logistic-regression\n",
      "  extra_warning_msg=_LOGISTIC_SOLVER_CONVERGENCE_MSG,\n",
      "C:\\Users\\vanan\\Anaconda3\\lib\\site-packages\\sklearn\\linear_model\\_logistic.py:1484: UserWarning: Setting penalty='none' will ignore the C and l1_ratio parameters\n",
      "  \"Setting penalty='none' will ignore the C and l1_ratio parameters\"\n",
      "C:\\Users\\vanan\\Anaconda3\\lib\\site-packages\\sklearn\\linear_model\\_logistic.py:1484: UserWarning: Setting penalty='none' will ignore the C and l1_ratio parameters\n",
      "  \"Setting penalty='none' will ignore the C and l1_ratio parameters\"\n",
      "C:\\Users\\vanan\\Anaconda3\\lib\\site-packages\\sklearn\\linear_model\\_logistic.py:1484: UserWarning: Setting penalty='none' will ignore the C and l1_ratio parameters\n",
      "  \"Setting penalty='none' will ignore the C and l1_ratio parameters\"\n",
      "C:\\Users\\vanan\\Anaconda3\\lib\\site-packages\\sklearn\\linear_model\\_logistic.py:1484: UserWarning: Setting penalty='none' will ignore the C and l1_ratio parameters\n",
      "  \"Setting penalty='none' will ignore the C and l1_ratio parameters\"\n",
      "C:\\Users\\vanan\\Anaconda3\\lib\\site-packages\\sklearn\\linear_model\\_logistic.py:1484: UserWarning: Setting penalty='none' will ignore the C and l1_ratio parameters\n",
      "  \"Setting penalty='none' will ignore the C and l1_ratio parameters\"\n",
      "C:\\Users\\vanan\\Anaconda3\\lib\\site-packages\\sklearn\\linear_model\\_logistic.py:1484: UserWarning: Setting penalty='none' will ignore the C and l1_ratio parameters\n",
      "  \"Setting penalty='none' will ignore the C and l1_ratio parameters\"\n",
      "C:\\Users\\vanan\\Anaconda3\\lib\\site-packages\\sklearn\\linear_model\\_logistic.py:1484: UserWarning: Setting penalty='none' will ignore the C and l1_ratio parameters\n",
      "  \"Setting penalty='none' will ignore the C and l1_ratio parameters\"\n",
      "C:\\Users\\vanan\\Anaconda3\\lib\\site-packages\\sklearn\\linear_model\\_logistic.py:1484: UserWarning: Setting penalty='none' will ignore the C and l1_ratio parameters\n",
      "  \"Setting penalty='none' will ignore the C and l1_ratio parameters\"\n",
      "C:\\Users\\vanan\\Anaconda3\\lib\\site-packages\\sklearn\\linear_model\\_logistic.py:1484: UserWarning: Setting penalty='none' will ignore the C and l1_ratio parameters\n",
      "  \"Setting penalty='none' will ignore the C and l1_ratio parameters\"\n"
     ]
    },
    {
     "name": "stderr",
     "output_type": "stream",
     "text": [
      "C:\\Users\\vanan\\Anaconda3\\lib\\site-packages\\sklearn\\linear_model\\_logistic.py:1484: UserWarning: Setting penalty='none' will ignore the C and l1_ratio parameters\n",
      "  \"Setting penalty='none' will ignore the C and l1_ratio parameters\"\n",
      "C:\\Users\\vanan\\Anaconda3\\lib\\site-packages\\sklearn\\linear_model\\_logistic.py:1484: UserWarning: Setting penalty='none' will ignore the C and l1_ratio parameters\n",
      "  \"Setting penalty='none' will ignore the C and l1_ratio parameters\"\n",
      "C:\\Users\\vanan\\Anaconda3\\lib\\site-packages\\sklearn\\linear_model\\_logistic.py:1484: UserWarning: Setting penalty='none' will ignore the C and l1_ratio parameters\n",
      "  \"Setting penalty='none' will ignore the C and l1_ratio parameters\"\n",
      "C:\\Users\\vanan\\Anaconda3\\lib\\site-packages\\sklearn\\linear_model\\_logistic.py:1484: UserWarning: Setting penalty='none' will ignore the C and l1_ratio parameters\n",
      "  \"Setting penalty='none' will ignore the C and l1_ratio parameters\"\n",
      "C:\\Users\\vanan\\Anaconda3\\lib\\site-packages\\sklearn\\linear_model\\_logistic.py:1484: UserWarning: Setting penalty='none' will ignore the C and l1_ratio parameters\n",
      "  \"Setting penalty='none' will ignore the C and l1_ratio parameters\"\n",
      "C:\\Users\\vanan\\Anaconda3\\lib\\site-packages\\sklearn\\linear_model\\_logistic.py:1484: UserWarning: Setting penalty='none' will ignore the C and l1_ratio parameters\n",
      "  \"Setting penalty='none' will ignore the C and l1_ratio parameters\"\n",
      "C:\\Users\\vanan\\Anaconda3\\lib\\site-packages\\sklearn\\linear_model\\_logistic.py:1484: UserWarning: Setting penalty='none' will ignore the C and l1_ratio parameters\n",
      "  \"Setting penalty='none' will ignore the C and l1_ratio parameters\"\n",
      "C:\\Users\\vanan\\Anaconda3\\lib\\site-packages\\sklearn\\linear_model\\_logistic.py:1484: UserWarning: Setting penalty='none' will ignore the C and l1_ratio parameters\n",
      "  \"Setting penalty='none' will ignore the C and l1_ratio parameters\"\n",
      "C:\\Users\\vanan\\Anaconda3\\lib\\site-packages\\sklearn\\linear_model\\_logistic.py:1484: UserWarning: Setting penalty='none' will ignore the C and l1_ratio parameters\n",
      "  \"Setting penalty='none' will ignore the C and l1_ratio parameters\"\n",
      "C:\\Users\\vanan\\Anaconda3\\lib\\site-packages\\sklearn\\linear_model\\_logistic.py:1484: UserWarning: Setting penalty='none' will ignore the C and l1_ratio parameters\n",
      "  \"Setting penalty='none' will ignore the C and l1_ratio parameters\"\n"
     ]
    },
    {
     "name": "stdout",
     "output_type": "stream",
     "text": [
      "              precision    recall  f1-score   support\n",
      "\n",
      "           0       0.95      0.77      0.85       730\n",
      "           1       0.35      0.74      0.47       120\n",
      "\n",
      "    accuracy                           0.77       850\n",
      "   macro avg       0.65      0.76      0.66       850\n",
      "weighted avg       0.86      0.77      0.80       850\n",
      "\n"
     ]
    }
   ],
   "source": [
    "# Specify the hyperparameter grid\n",
    "param_grid = {'penalty': ['none', 'l2'],\n",
    "              'C': [0.1, 1, 10],\n",
    "              'class_weight': [{0: 1, 1: 4}, {0: 1, 1: 3}, {0: 1, 1: 2},{0:1,1:1}]}\n",
    "params_lg_sm,results_lg_sm = tuning(model_lg_sm, \n",
    "                    X_train_sm, X_test_scaled,\n",
    "                    y_train_sm,y_test, \n",
    "                    param_grid,data_preprocess = 'SMOTE',modelname='Logistic Regression')"
   ]
  },
  {
   "cell_type": "code",
   "execution_count": 327,
   "metadata": {},
   "outputs": [
    {
     "name": "stdout",
     "output_type": "stream",
     "text": [
      "{'C': 0.1, 'class_weight': {0: 1, 1: 1}, 'penalty': 'l2'}\n"
     ]
    },
    {
     "data": {
      "text/plain": [
       "{'model': 'Logistic Regression',\n",
       " 'data_preprocess': 'NaN',\n",
       " 'precision': 0.39086294416243655,\n",
       " 'recall': 0.6416666666666667,\n",
       " 'f1': 0.4858044164037855,\n",
       " 'accuracy': 0.808235294117647}"
      ]
     },
     "execution_count": 327,
     "metadata": {},
     "output_type": "execute_result"
    }
   ],
   "source": [
    "print(params_lg_sm)\n",
    "results_lg"
   ]
  },
  {
   "cell_type": "markdown",
   "metadata": {},
   "source": [
    "For SMOTE+TOMEK"
   ]
  },
  {
   "cell_type": "code",
   "execution_count": 328,
   "metadata": {},
   "outputs": [
    {
     "name": "stdout",
     "output_type": "stream",
     "text": [
      "              precision    recall  f1-score   support\n",
      "\n",
      "           0       0.94      0.77      0.85       730\n",
      "           1       0.35      0.72      0.47       120\n",
      "\n",
      "    accuracy                           0.77       850\n",
      "   macro avg       0.65      0.75      0.66       850\n",
      "weighted avg       0.86      0.77      0.80       850\n",
      "\n"
     ]
    }
   ],
   "source": [
    "model_lg_smt = LogisticRegression(solver='lbfgs')\n",
    "model_lg_smt.fit(X_train_smt, y_train_smt)\n",
    "y_pred_smt = model_lg_smt.predict(X_test_scaled)\n",
    "print(classification_report(y_test, y_pred_smt))"
   ]
  },
  {
   "cell_type": "code",
   "execution_count": 329,
   "metadata": {},
   "outputs": [
    {
     "name": "stderr",
     "output_type": "stream",
     "text": [
      "C:\\Users\\vanan\\Anaconda3\\lib\\site-packages\\sklearn\\linear_model\\_logistic.py:1484: UserWarning: Setting penalty='none' will ignore the C and l1_ratio parameters\n",
      "  \"Setting penalty='none' will ignore the C and l1_ratio parameters\"\n",
      "C:\\Users\\vanan\\Anaconda3\\lib\\site-packages\\sklearn\\linear_model\\_logistic.py:818: ConvergenceWarning: lbfgs failed to converge (status=1):\n",
      "STOP: TOTAL NO. of ITERATIONS REACHED LIMIT.\n",
      "\n",
      "Increase the number of iterations (max_iter) or scale the data as shown in:\n",
      "    https://scikit-learn.org/stable/modules/preprocessing.html\n",
      "Please also refer to the documentation for alternative solver options:\n",
      "    https://scikit-learn.org/stable/modules/linear_model.html#logistic-regression\n",
      "  extra_warning_msg=_LOGISTIC_SOLVER_CONVERGENCE_MSG,\n",
      "C:\\Users\\vanan\\Anaconda3\\lib\\site-packages\\sklearn\\linear_model\\_logistic.py:1484: UserWarning: Setting penalty='none' will ignore the C and l1_ratio parameters\n",
      "  \"Setting penalty='none' will ignore the C and l1_ratio parameters\"\n",
      "C:\\Users\\vanan\\Anaconda3\\lib\\site-packages\\sklearn\\linear_model\\_logistic.py:1484: UserWarning: Setting penalty='none' will ignore the C and l1_ratio parameters\n",
      "  \"Setting penalty='none' will ignore the C and l1_ratio parameters\"\n",
      "C:\\Users\\vanan\\Anaconda3\\lib\\site-packages\\sklearn\\linear_model\\_logistic.py:818: ConvergenceWarning: lbfgs failed to converge (status=1):\n",
      "STOP: TOTAL NO. of ITERATIONS REACHED LIMIT.\n",
      "\n",
      "Increase the number of iterations (max_iter) or scale the data as shown in:\n",
      "    https://scikit-learn.org/stable/modules/preprocessing.html\n",
      "Please also refer to the documentation for alternative solver options:\n",
      "    https://scikit-learn.org/stable/modules/linear_model.html#logistic-regression\n",
      "  extra_warning_msg=_LOGISTIC_SOLVER_CONVERGENCE_MSG,\n",
      "C:\\Users\\vanan\\Anaconda3\\lib\\site-packages\\sklearn\\linear_model\\_logistic.py:1484: UserWarning: Setting penalty='none' will ignore the C and l1_ratio parameters\n",
      "  \"Setting penalty='none' will ignore the C and l1_ratio parameters\"\n",
      "C:\\Users\\vanan\\Anaconda3\\lib\\site-packages\\sklearn\\linear_model\\_logistic.py:1484: UserWarning: Setting penalty='none' will ignore the C and l1_ratio parameters\n",
      "  \"Setting penalty='none' will ignore the C and l1_ratio parameters\"\n",
      "C:\\Users\\vanan\\Anaconda3\\lib\\site-packages\\sklearn\\linear_model\\_logistic.py:1484: UserWarning: Setting penalty='none' will ignore the C and l1_ratio parameters\n",
      "  \"Setting penalty='none' will ignore the C and l1_ratio parameters\"\n",
      "C:\\Users\\vanan\\Anaconda3\\lib\\site-packages\\sklearn\\linear_model\\_logistic.py:1484: UserWarning: Setting penalty='none' will ignore the C and l1_ratio parameters\n",
      "  \"Setting penalty='none' will ignore the C and l1_ratio parameters\"\n",
      "C:\\Users\\vanan\\Anaconda3\\lib\\site-packages\\sklearn\\linear_model\\_logistic.py:1484: UserWarning: Setting penalty='none' will ignore the C and l1_ratio parameters\n",
      "  \"Setting penalty='none' will ignore the C and l1_ratio parameters\"\n",
      "C:\\Users\\vanan\\Anaconda3\\lib\\site-packages\\sklearn\\linear_model\\_logistic.py:1484: UserWarning: Setting penalty='none' will ignore the C and l1_ratio parameters\n",
      "  \"Setting penalty='none' will ignore the C and l1_ratio parameters\"\n",
      "C:\\Users\\vanan\\Anaconda3\\lib\\site-packages\\sklearn\\linear_model\\_logistic.py:1484: UserWarning: Setting penalty='none' will ignore the C and l1_ratio parameters\n",
      "  \"Setting penalty='none' will ignore the C and l1_ratio parameters\"\n",
      "C:\\Users\\vanan\\Anaconda3\\lib\\site-packages\\sklearn\\linear_model\\_logistic.py:1484: UserWarning: Setting penalty='none' will ignore the C and l1_ratio parameters\n",
      "  \"Setting penalty='none' will ignore the C and l1_ratio parameters\"\n",
      "C:\\Users\\vanan\\Anaconda3\\lib\\site-packages\\sklearn\\linear_model\\_logistic.py:1484: UserWarning: Setting penalty='none' will ignore the C and l1_ratio parameters\n",
      "  \"Setting penalty='none' will ignore the C and l1_ratio parameters\"\n",
      "C:\\Users\\vanan\\Anaconda3\\lib\\site-packages\\sklearn\\linear_model\\_logistic.py:1484: UserWarning: Setting penalty='none' will ignore the C and l1_ratio parameters\n",
      "  \"Setting penalty='none' will ignore the C and l1_ratio parameters\"\n",
      "C:\\Users\\vanan\\Anaconda3\\lib\\site-packages\\sklearn\\linear_model\\_logistic.py:1484: UserWarning: Setting penalty='none' will ignore the C and l1_ratio parameters\n",
      "  \"Setting penalty='none' will ignore the C and l1_ratio parameters\"\n",
      "C:\\Users\\vanan\\Anaconda3\\lib\\site-packages\\sklearn\\linear_model\\_logistic.py:1484: UserWarning: Setting penalty='none' will ignore the C and l1_ratio parameters\n",
      "  \"Setting penalty='none' will ignore the C and l1_ratio parameters\"\n",
      "C:\\Users\\vanan\\Anaconda3\\lib\\site-packages\\sklearn\\linear_model\\_logistic.py:1484: UserWarning: Setting penalty='none' will ignore the C and l1_ratio parameters\n",
      "  \"Setting penalty='none' will ignore the C and l1_ratio parameters\"\n",
      "C:\\Users\\vanan\\Anaconda3\\lib\\site-packages\\sklearn\\linear_model\\_logistic.py:1484: UserWarning: Setting penalty='none' will ignore the C and l1_ratio parameters\n",
      "  \"Setting penalty='none' will ignore the C and l1_ratio parameters\"\n",
      "C:\\Users\\vanan\\Anaconda3\\lib\\site-packages\\sklearn\\linear_model\\_logistic.py:1484: UserWarning: Setting penalty='none' will ignore the C and l1_ratio parameters\n",
      "  \"Setting penalty='none' will ignore the C and l1_ratio parameters\"\n",
      "C:\\Users\\vanan\\Anaconda3\\lib\\site-packages\\sklearn\\linear_model\\_logistic.py:1484: UserWarning: Setting penalty='none' will ignore the C and l1_ratio parameters\n",
      "  \"Setting penalty='none' will ignore the C and l1_ratio parameters\"\n",
      "C:\\Users\\vanan\\Anaconda3\\lib\\site-packages\\sklearn\\linear_model\\_logistic.py:1484: UserWarning: Setting penalty='none' will ignore the C and l1_ratio parameters\n",
      "  \"Setting penalty='none' will ignore the C and l1_ratio parameters\"\n",
      "C:\\Users\\vanan\\Anaconda3\\lib\\site-packages\\sklearn\\linear_model\\_logistic.py:818: ConvergenceWarning: lbfgs failed to converge (status=1):\n",
      "STOP: TOTAL NO. of ITERATIONS REACHED LIMIT.\n",
      "\n",
      "Increase the number of iterations (max_iter) or scale the data as shown in:\n",
      "    https://scikit-learn.org/stable/modules/preprocessing.html\n",
      "Please also refer to the documentation for alternative solver options:\n",
      "    https://scikit-learn.org/stable/modules/linear_model.html#logistic-regression\n",
      "  extra_warning_msg=_LOGISTIC_SOLVER_CONVERGENCE_MSG,\n",
      "C:\\Users\\vanan\\Anaconda3\\lib\\site-packages\\sklearn\\linear_model\\_logistic.py:818: ConvergenceWarning: lbfgs failed to converge (status=1):\n",
      "STOP: TOTAL NO. of ITERATIONS REACHED LIMIT.\n",
      "\n",
      "Increase the number of iterations (max_iter) or scale the data as shown in:\n",
      "    https://scikit-learn.org/stable/modules/preprocessing.html\n",
      "Please also refer to the documentation for alternative solver options:\n",
      "    https://scikit-learn.org/stable/modules/linear_model.html#logistic-regression\n",
      "  extra_warning_msg=_LOGISTIC_SOLVER_CONVERGENCE_MSG,\n",
      "C:\\Users\\vanan\\Anaconda3\\lib\\site-packages\\sklearn\\linear_model\\_logistic.py:1484: UserWarning: Setting penalty='none' will ignore the C and l1_ratio parameters\n",
      "  \"Setting penalty='none' will ignore the C and l1_ratio parameters\"\n",
      "C:\\Users\\vanan\\Anaconda3\\lib\\site-packages\\sklearn\\linear_model\\_logistic.py:818: ConvergenceWarning: lbfgs failed to converge (status=1):\n",
      "STOP: TOTAL NO. of ITERATIONS REACHED LIMIT.\n",
      "\n",
      "Increase the number of iterations (max_iter) or scale the data as shown in:\n",
      "    https://scikit-learn.org/stable/modules/preprocessing.html\n",
      "Please also refer to the documentation for alternative solver options:\n",
      "    https://scikit-learn.org/stable/modules/linear_model.html#logistic-regression\n",
      "  extra_warning_msg=_LOGISTIC_SOLVER_CONVERGENCE_MSG,\n",
      "C:\\Users\\vanan\\Anaconda3\\lib\\site-packages\\sklearn\\linear_model\\_logistic.py:1484: UserWarning: Setting penalty='none' will ignore the C and l1_ratio parameters\n",
      "  \"Setting penalty='none' will ignore the C and l1_ratio parameters\"\n",
      "C:\\Users\\vanan\\Anaconda3\\lib\\site-packages\\sklearn\\linear_model\\_logistic.py:1484: UserWarning: Setting penalty='none' will ignore the C and l1_ratio parameters\n",
      "  \"Setting penalty='none' will ignore the C and l1_ratio parameters\"\n",
      "C:\\Users\\vanan\\Anaconda3\\lib\\site-packages\\sklearn\\linear_model\\_logistic.py:818: ConvergenceWarning: lbfgs failed to converge (status=1):\n",
      "STOP: TOTAL NO. of ITERATIONS REACHED LIMIT.\n",
      "\n",
      "Increase the number of iterations (max_iter) or scale the data as shown in:\n",
      "    https://scikit-learn.org/stable/modules/preprocessing.html\n",
      "Please also refer to the documentation for alternative solver options:\n",
      "    https://scikit-learn.org/stable/modules/linear_model.html#logistic-regression\n",
      "  extra_warning_msg=_LOGISTIC_SOLVER_CONVERGENCE_MSG,\n",
      "C:\\Users\\vanan\\Anaconda3\\lib\\site-packages\\sklearn\\linear_model\\_logistic.py:1484: UserWarning: Setting penalty='none' will ignore the C and l1_ratio parameters\n",
      "  \"Setting penalty='none' will ignore the C and l1_ratio parameters\"\n",
      "C:\\Users\\vanan\\Anaconda3\\lib\\site-packages\\sklearn\\linear_model\\_logistic.py:1484: UserWarning: Setting penalty='none' will ignore the C and l1_ratio parameters\n",
      "  \"Setting penalty='none' will ignore the C and l1_ratio parameters\"\n"
     ]
    },
    {
     "name": "stderr",
     "output_type": "stream",
     "text": [
      "C:\\Users\\vanan\\Anaconda3\\lib\\site-packages\\sklearn\\linear_model\\_logistic.py:1484: UserWarning: Setting penalty='none' will ignore the C and l1_ratio parameters\n",
      "  \"Setting penalty='none' will ignore the C and l1_ratio parameters\"\n",
      "C:\\Users\\vanan\\Anaconda3\\lib\\site-packages\\sklearn\\linear_model\\_logistic.py:1484: UserWarning: Setting penalty='none' will ignore the C and l1_ratio parameters\n",
      "  \"Setting penalty='none' will ignore the C and l1_ratio parameters\"\n",
      "C:\\Users\\vanan\\Anaconda3\\lib\\site-packages\\sklearn\\linear_model\\_logistic.py:1484: UserWarning: Setting penalty='none' will ignore the C and l1_ratio parameters\n",
      "  \"Setting penalty='none' will ignore the C and l1_ratio parameters\"\n",
      "C:\\Users\\vanan\\Anaconda3\\lib\\site-packages\\sklearn\\linear_model\\_logistic.py:1484: UserWarning: Setting penalty='none' will ignore the C and l1_ratio parameters\n",
      "  \"Setting penalty='none' will ignore the C and l1_ratio parameters\"\n",
      "C:\\Users\\vanan\\Anaconda3\\lib\\site-packages\\sklearn\\linear_model\\_logistic.py:1484: UserWarning: Setting penalty='none' will ignore the C and l1_ratio parameters\n",
      "  \"Setting penalty='none' will ignore the C and l1_ratio parameters\"\n",
      "C:\\Users\\vanan\\Anaconda3\\lib\\site-packages\\sklearn\\linear_model\\_logistic.py:1484: UserWarning: Setting penalty='none' will ignore the C and l1_ratio parameters\n",
      "  \"Setting penalty='none' will ignore the C and l1_ratio parameters\"\n",
      "C:\\Users\\vanan\\Anaconda3\\lib\\site-packages\\sklearn\\linear_model\\_logistic.py:1484: UserWarning: Setting penalty='none' will ignore the C and l1_ratio parameters\n",
      "  \"Setting penalty='none' will ignore the C and l1_ratio parameters\"\n",
      "C:\\Users\\vanan\\Anaconda3\\lib\\site-packages\\sklearn\\linear_model\\_logistic.py:1484: UserWarning: Setting penalty='none' will ignore the C and l1_ratio parameters\n",
      "  \"Setting penalty='none' will ignore the C and l1_ratio parameters\"\n",
      "C:\\Users\\vanan\\Anaconda3\\lib\\site-packages\\sklearn\\linear_model\\_logistic.py:1484: UserWarning: Setting penalty='none' will ignore the C and l1_ratio parameters\n",
      "  \"Setting penalty='none' will ignore the C and l1_ratio parameters\"\n",
      "C:\\Users\\vanan\\Anaconda3\\lib\\site-packages\\sklearn\\linear_model\\_logistic.py:1484: UserWarning: Setting penalty='none' will ignore the C and l1_ratio parameters\n",
      "  \"Setting penalty='none' will ignore the C and l1_ratio parameters\"\n",
      "C:\\Users\\vanan\\Anaconda3\\lib\\site-packages\\sklearn\\linear_model\\_logistic.py:1484: UserWarning: Setting penalty='none' will ignore the C and l1_ratio parameters\n",
      "  \"Setting penalty='none' will ignore the C and l1_ratio parameters\"\n",
      "C:\\Users\\vanan\\Anaconda3\\lib\\site-packages\\sklearn\\linear_model\\_logistic.py:1484: UserWarning: Setting penalty='none' will ignore the C and l1_ratio parameters\n",
      "  \"Setting penalty='none' will ignore the C and l1_ratio parameters\"\n",
      "C:\\Users\\vanan\\Anaconda3\\lib\\site-packages\\sklearn\\linear_model\\_logistic.py:1484: UserWarning: Setting penalty='none' will ignore the C and l1_ratio parameters\n",
      "  \"Setting penalty='none' will ignore the C and l1_ratio parameters\"\n",
      "C:\\Users\\vanan\\Anaconda3\\lib\\site-packages\\sklearn\\linear_model\\_logistic.py:1484: UserWarning: Setting penalty='none' will ignore the C and l1_ratio parameters\n",
      "  \"Setting penalty='none' will ignore the C and l1_ratio parameters\"\n",
      "C:\\Users\\vanan\\Anaconda3\\lib\\site-packages\\sklearn\\linear_model\\_logistic.py:1484: UserWarning: Setting penalty='none' will ignore the C and l1_ratio parameters\n",
      "  \"Setting penalty='none' will ignore the C and l1_ratio parameters\"\n"
     ]
    },
    {
     "name": "stdout",
     "output_type": "stream",
     "text": [
      "              precision    recall  f1-score   support\n",
      "\n",
      "           0       0.95      0.78      0.85       730\n",
      "           1       0.35      0.72      0.47       120\n",
      "\n",
      "    accuracy                           0.77       850\n",
      "   macro avg       0.65      0.75      0.66       850\n",
      "weighted avg       0.86      0.77      0.80       850\n",
      "\n"
     ]
    },
    {
     "name": "stderr",
     "output_type": "stream",
     "text": [
      "C:\\Users\\vanan\\Anaconda3\\lib\\site-packages\\sklearn\\linear_model\\_logistic.py:1484: UserWarning: Setting penalty='none' will ignore the C and l1_ratio parameters\n",
      "  \"Setting penalty='none' will ignore the C and l1_ratio parameters\"\n"
     ]
    }
   ],
   "source": [
    "# Specify the hyperparameter grid\n",
    "param_grid = {'penalty': ['none', 'l2'],\n",
    "              'C': [0.1, 1, 10],\n",
    "              'class_weight': [{0: 1, 1: 4}, {0: 1, 1: 3}, {0: 1, 1: 2},{0:1,1:1}]}\n",
    "params_lg_smt,results_lg_smt = tuning(model_lg_smt, \n",
    "                    X_train_smt, X_test_scaled,\n",
    "                    y_train_smt,y_test, \n",
    "                    param_grid,data_preprocess = 'SMOTE+TOMEK',modelname='Logistic Regression')\n"
   ]
  },
  {
   "cell_type": "code",
   "execution_count": 330,
   "metadata": {},
   "outputs": [
    {
     "name": "stdout",
     "output_type": "stream",
     "text": [
      "{'C': 0.1, 'class_weight': {0: 1, 1: 1}, 'penalty': 'none'}\n"
     ]
    },
    {
     "data": {
      "text/plain": [
       "{'model': 'Logistic Regression',\n",
       " 'data_preprocess': 'SMOTE+TOMEK',\n",
       " 'precision': 0.35080645161290325,\n",
       " 'recall': 0.725,\n",
       " 'f1': 0.4728260869565218,\n",
       " 'accuracy': 0.7717647058823529}"
      ]
     },
     "execution_count": 330,
     "metadata": {},
     "output_type": "execute_result"
    }
   ],
   "source": [
    "print(params_lg_smt)\n",
    "results_lg_smt"
   ]
  },
  {
   "cell_type": "code",
   "execution_count": 331,
   "metadata": {},
   "outputs": [
    {
     "data": {
      "text/html": [
       "<div>\n",
       "<style scoped>\n",
       "    .dataframe tbody tr th:only-of-type {\n",
       "        vertical-align: middle;\n",
       "    }\n",
       "\n",
       "    .dataframe tbody tr th {\n",
       "        vertical-align: top;\n",
       "    }\n",
       "\n",
       "    .dataframe thead th {\n",
       "        text-align: right;\n",
       "    }\n",
       "</style>\n",
       "<table border=\"1\" class=\"dataframe\">\n",
       "  <thead>\n",
       "    <tr style=\"text-align: right;\">\n",
       "      <th></th>\n",
       "      <th>model</th>\n",
       "      <th>data_preprocess</th>\n",
       "      <th>precision</th>\n",
       "      <th>recall</th>\n",
       "      <th>f1</th>\n",
       "      <th>accuracy</th>\n",
       "    </tr>\n",
       "  </thead>\n",
       "  <tbody>\n",
       "    <tr>\n",
       "      <th>0</th>\n",
       "      <td>Logistic Regression</td>\n",
       "      <td>NaN</td>\n",
       "      <td>0.390863</td>\n",
       "      <td>0.641667</td>\n",
       "      <td>0.485804</td>\n",
       "      <td>0.808235</td>\n",
       "    </tr>\n",
       "    <tr>\n",
       "      <th>1</th>\n",
       "      <td>Logistic Regression</td>\n",
       "      <td>SMOTE</td>\n",
       "      <td>0.349020</td>\n",
       "      <td>0.741667</td>\n",
       "      <td>0.474667</td>\n",
       "      <td>0.768235</td>\n",
       "    </tr>\n",
       "    <tr>\n",
       "      <th>2</th>\n",
       "      <td>Logistic Regression</td>\n",
       "      <td>SMOTE+TOMEK</td>\n",
       "      <td>0.350806</td>\n",
       "      <td>0.725000</td>\n",
       "      <td>0.472826</td>\n",
       "      <td>0.771765</td>\n",
       "    </tr>\n",
       "  </tbody>\n",
       "</table>\n",
       "</div>"
      ],
      "text/plain": [
       "                 model data_preprocess  precision    recall        f1  \\\n",
       "0  Logistic Regression             NaN   0.390863  0.641667  0.485804   \n",
       "1  Logistic Regression           SMOTE   0.349020  0.741667  0.474667   \n",
       "2  Logistic Regression     SMOTE+TOMEK   0.350806  0.725000  0.472826   \n",
       "\n",
       "   accuracy  \n",
       "0  0.808235  \n",
       "1  0.768235  \n",
       "2  0.771765  "
      ]
     },
     "execution_count": 331,
     "metadata": {},
     "output_type": "execute_result"
    }
   ],
   "source": [
    "pd.DataFrame(results_lg, index=[0]).append([results_lg_sm,results_lg_smt],ignore_index=True)"
   ]
  },
  {
   "cell_type": "markdown",
   "metadata": {},
   "source": [
    "### Random Forest"
   ]
  },
  {
   "cell_type": "code",
   "execution_count": 334,
   "metadata": {},
   "outputs": [
    {
     "name": "stdout",
     "output_type": "stream",
     "text": [
      "              precision    recall  f1-score   support\n",
      "\n",
      "           0       0.95      0.98      0.97       730\n",
      "           1       0.86      0.70      0.77       120\n",
      "\n",
      "    accuracy                           0.94       850\n",
      "   macro avg       0.90      0.84      0.87       850\n",
      "weighted avg       0.94      0.94      0.94       850\n",
      "\n"
     ]
    }
   ],
   "source": [
    "# Define parameter grid\n",
    "param_grid = {'class_weight':[{0:1,1:4},{0:1,1:2},{0:1,1:1}],\n",
    "              'n_estimators': [10, 50, 100],\n",
    "              'max_depth': [5, 10, 15],\n",
    "              'min_samples_split': [2, 5, 10]}\n",
    "\n",
    "params_rf,results_rf = tuning(model_rf, \n",
    "                    X_train_scaled, X_test_scaled,\n",
    "                    y_train,y_test, \n",
    "                    param_grid, modelname='Random Forest')"
   ]
  },
  {
   "cell_type": "code",
   "execution_count": 335,
   "metadata": {},
   "outputs": [
    {
     "name": "stdout",
     "output_type": "stream",
     "text": [
      "{'class_weight': {0: 1, 1: 4}, 'max_depth': 15, 'min_samples_split': 10, 'n_estimators': 50}\n"
     ]
    },
    {
     "data": {
      "text/plain": [
       "{'model': 'Random Forest',\n",
       " 'data_preprocess': 'NaN',\n",
       " 'precision': 0.8571428571428571,\n",
       " 'recall': 0.7,\n",
       " 'f1': 0.7706422018348624,\n",
       " 'accuracy': 0.9411764705882353}"
      ]
     },
     "execution_count": 335,
     "metadata": {},
     "output_type": "execute_result"
    }
   ],
   "source": [
    "print(params_rf)\n",
    "results_rf"
   ]
  },
  {
   "cell_type": "code",
   "execution_count": 336,
   "metadata": {},
   "outputs": [
    {
     "name": "stdout",
     "output_type": "stream",
     "text": [
      "              precision    recall  f1-score   support\n",
      "\n",
      "           0       0.96      0.96      0.96       730\n",
      "           1       0.77      0.72      0.75       120\n",
      "\n",
      "    accuracy                           0.93       850\n",
      "   macro avg       0.86      0.84      0.85       850\n",
      "weighted avg       0.93      0.93      0.93       850\n",
      "\n",
      "\n",
      " Parameter tuning:\n",
      "\n",
      "              precision    recall  f1-score   support\n",
      "\n",
      "           0       0.97      0.96      0.96       730\n",
      "           1       0.78      0.79      0.79       120\n",
      "\n",
      "    accuracy                           0.94       850\n",
      "   macro avg       0.87      0.88      0.87       850\n",
      "weighted avg       0.94      0.94      0.94       850\n",
      "\n",
      "{'max_depth': 15, 'min_samples_split': 2, 'n_estimators': 100}\n"
     ]
    },
    {
     "data": {
      "text/plain": [
       "{'model': 'Random Forest',\n",
       " 'data_preprocess': 'SMOTE',\n",
       " 'precision': 0.7786885245901639,\n",
       " 'recall': 0.7916666666666666,\n",
       " 'f1': 0.7851239669421487,\n",
       " 'accuracy': 0.9388235294117647}"
      ]
     },
     "execution_count": 336,
     "metadata": {},
     "output_type": "execute_result"
    }
   ],
   "source": [
    "# SMOTE\n",
    "# Train model\n",
    "model_rf_sm = RandomForestClassifier(n_estimators=50, random_state=42)\n",
    "model_rf_sm.fit(X_train_sm, y_train_sm)\n",
    "\n",
    "# Make predictions on test set\n",
    "y_pred_rf_sm = model_rf_sm.predict(X_test_scaled)\n",
    "\n",
    "# Evaluate model performance\n",
    "print(classification_report(y_test, y_pred_rf_sm))\n",
    "\n",
    "print('\\n Parameter tuning:\\n')\n",
    "\n",
    "# Define parameter grid\n",
    "param_grid = {'n_estimators': [10, 50, 100],\n",
    "              'max_depth': [5, 10, 15],\n",
    "              'min_samples_split': [2, 5, 10]}\n",
    "\n",
    "params_rf_sm,results_rf_sm = tuning(model_rf_sm, \n",
    "                    X_train_sm, X_test_scaled,\n",
    "                    y_train_sm,y_test, \n",
    "                    param_grid,data_preprocess='SMOTE',modelname='Random Forest')\n",
    "\n",
    "results_rf_sm"
   ]
  },
  {
   "cell_type": "code",
   "execution_count": 339,
   "metadata": {},
   "outputs": [
    {
     "name": "stdout",
     "output_type": "stream",
     "text": [
      "              precision    recall  f1-score   support\n",
      "\n",
      "           0       0.96      0.96      0.96       730\n",
      "           1       0.76      0.74      0.75       120\n",
      "\n",
      "    accuracy                           0.93       850\n",
      "   macro avg       0.86      0.85      0.86       850\n",
      "weighted avg       0.93      0.93      0.93       850\n",
      "\n",
      "\n",
      " Parameter tuning:\n",
      "\n",
      "              precision    recall  f1-score   support\n",
      "\n",
      "           0       0.96      0.96      0.96       730\n",
      "           1       0.75      0.78      0.77       120\n",
      "\n",
      "    accuracy                           0.93       850\n",
      "   macro avg       0.86      0.87      0.86       850\n",
      "weighted avg       0.93      0.93      0.93       850\n",
      "\n",
      "Best parameters: {'max_depth': 15, 'min_samples_split': 2, 'n_estimators': 100}\n"
     ]
    },
    {
     "data": {
      "text/plain": [
       "{'model': 'Random Forest',\n",
       " 'data_preprocess': 'SMOTE+TOMEK',\n",
       " 'precision': 0.752,\n",
       " 'recall': 0.7833333333333333,\n",
       " 'f1': 0.7673469387755101,\n",
       " 'accuracy': 0.9329411764705883}"
      ]
     },
     "execution_count": 339,
     "metadata": {},
     "output_type": "execute_result"
    }
   ],
   "source": [
    "#SMOTE+TOMEK\n",
    "# Train model\n",
    "model_rf_smt = RandomForestClassifier(n_estimators=50, random_state=42)\n",
    "model_rf_smt.fit(X_train_smt, y_train_smt)\n",
    "\n",
    "# Make predictions on test set\n",
    "y_pred_rf_smt = model_rf_smt.predict(X_test_scaled)\n",
    "\n",
    "# Evaluate model performance\n",
    "print('Initial model:)\n",
    "print(classification_report(y_test, y_pred_rf_smt))\n",
    "\n",
    "# Define parameter grid\n",
    "param_grid = {'n_estimators': [10, 50, 100],\n",
    "              'max_depth': [5, 10, 15],\n",
    "              'min_samples_split': [2, 5, 10]}\n",
    "\n",
    "params_rf_smt,results_rf_smt = tuning(model_rf_smt, \n",
    "                    X_train_smt, X_test_scaled,\n",
    "                    y_train_smt,y_test, \n",
    "                    param_grid,data_preprocess='SMOTE+TOMEK',modelname='Random Forest')\n",
    "\n",
    "results_rf_smt"
   ]
  },
  {
   "cell_type": "code",
   "execution_count": 340,
   "metadata": {},
   "outputs": [
    {
     "data": {
      "text/html": [
       "<div>\n",
       "<style scoped>\n",
       "    .dataframe tbody tr th:only-of-type {\n",
       "        vertical-align: middle;\n",
       "    }\n",
       "\n",
       "    .dataframe tbody tr th {\n",
       "        vertical-align: top;\n",
       "    }\n",
       "\n",
       "    .dataframe thead th {\n",
       "        text-align: right;\n",
       "    }\n",
       "</style>\n",
       "<table border=\"1\" class=\"dataframe\">\n",
       "  <thead>\n",
       "    <tr style=\"text-align: right;\">\n",
       "      <th></th>\n",
       "      <th>model</th>\n",
       "      <th>data_preprocess</th>\n",
       "      <th>precision</th>\n",
       "      <th>recall</th>\n",
       "      <th>f1</th>\n",
       "      <th>accuracy</th>\n",
       "    </tr>\n",
       "  </thead>\n",
       "  <tbody>\n",
       "    <tr>\n",
       "      <th>0</th>\n",
       "      <td>Random Forest</td>\n",
       "      <td>NaN</td>\n",
       "      <td>0.857143</td>\n",
       "      <td>0.700000</td>\n",
       "      <td>0.770642</td>\n",
       "      <td>0.941176</td>\n",
       "    </tr>\n",
       "    <tr>\n",
       "      <th>1</th>\n",
       "      <td>Random Forest</td>\n",
       "      <td>SMOTE</td>\n",
       "      <td>0.778689</td>\n",
       "      <td>0.791667</td>\n",
       "      <td>0.785124</td>\n",
       "      <td>0.938824</td>\n",
       "    </tr>\n",
       "    <tr>\n",
       "      <th>2</th>\n",
       "      <td>Random Forest</td>\n",
       "      <td>SMOTE+TOMEK</td>\n",
       "      <td>0.752000</td>\n",
       "      <td>0.783333</td>\n",
       "      <td>0.767347</td>\n",
       "      <td>0.932941</td>\n",
       "    </tr>\n",
       "  </tbody>\n",
       "</table>\n",
       "</div>"
      ],
      "text/plain": [
       "           model data_preprocess  precision    recall        f1  accuracy\n",
       "0  Random Forest             NaN   0.857143  0.700000  0.770642  0.941176\n",
       "1  Random Forest           SMOTE   0.778689  0.791667  0.785124  0.938824\n",
       "2  Random Forest     SMOTE+TOMEK   0.752000  0.783333  0.767347  0.932941"
      ]
     },
     "execution_count": 340,
     "metadata": {},
     "output_type": "execute_result"
    }
   ],
   "source": [
    "pd.DataFrame(results_rf, index=[0]).append([results_rf_sm,results_rf_smt],ignore_index=True)"
   ]
  },
  {
   "cell_type": "markdown",
   "metadata": {},
   "source": [
    "### XGBoost Classification\n"
   ]
  },
  {
   "cell_type": "code",
   "execution_count": 376,
   "metadata": {},
   "outputs": [
    {
     "name": "stdout",
     "output_type": "stream",
     "text": [
      "[0]\tvalidation_0-logloss:0.47493\tvalidation_1-logloss:0.47999\n",
      "[1]\tvalidation_0-logloss:0.35333\tvalidation_1-logloss:0.36347\n",
      "[2]\tvalidation_0-logloss:0.27560\tvalidation_1-logloss:0.29104\n",
      "[3]\tvalidation_0-logloss:0.22319\tvalidation_1-logloss:0.24271\n",
      "[4]\tvalidation_0-logloss:0.18665\tvalidation_1-logloss:0.21058\n",
      "[5]\tvalidation_0-logloss:0.16152\tvalidation_1-logloss:0.18976\n",
      "[6]\tvalidation_0-logloss:0.14388\tvalidation_1-logloss:0.17480\n",
      "[7]\tvalidation_0-logloss:0.13098\tvalidation_1-logloss:0.16448\n",
      "[8]\tvalidation_0-logloss:0.12093\tvalidation_1-logloss:0.15693\n",
      "[9]\tvalidation_0-logloss:0.11266\tvalidation_1-logloss:0.15263\n",
      "[10]\tvalidation_0-logloss:0.10547\tvalidation_1-logloss:0.14943\n",
      "[11]\tvalidation_0-logloss:0.09880\tvalidation_1-logloss:0.15082\n",
      "[12]\tvalidation_0-logloss:0.09450\tvalidation_1-logloss:0.14961\n",
      "[13]\tvalidation_0-logloss:0.08911\tvalidation_1-logloss:0.14643\n",
      "[14]\tvalidation_0-logloss:0.08311\tvalidation_1-logloss:0.14739\n",
      "[15]\tvalidation_0-logloss:0.08056\tvalidation_1-logloss:0.14522\n",
      "[16]\tvalidation_0-logloss:0.07845\tvalidation_1-logloss:0.14440\n",
      "[17]\tvalidation_0-logloss:0.07512\tvalidation_1-logloss:0.14378\n",
      "[18]\tvalidation_0-logloss:0.07222\tvalidation_1-logloss:0.14412\n",
      "[19]\tvalidation_0-logloss:0.06968\tvalidation_1-logloss:0.14474\n",
      "[20]\tvalidation_0-logloss:0.06829\tvalidation_1-logloss:0.14579\n",
      "[21]\tvalidation_0-logloss:0.06744\tvalidation_1-logloss:0.14568\n",
      "[22]\tvalidation_0-logloss:0.06657\tvalidation_1-logloss:0.14458\n",
      "[23]\tvalidation_0-logloss:0.06427\tvalidation_1-logloss:0.14522\n",
      "[24]\tvalidation_0-logloss:0.06290\tvalidation_1-logloss:0.14470\n",
      "[25]\tvalidation_0-logloss:0.05944\tvalidation_1-logloss:0.14644\n",
      "[26]\tvalidation_0-logloss:0.05825\tvalidation_1-logloss:0.14703\n",
      "f1: 0.8493150684931509\n",
      "Accuracy: 0.9611764705882353\n",
      "              precision    recall  f1-score   support\n",
      "\n",
      "           0       0.96      0.99      0.98       730\n",
      "           1       0.94      0.78      0.85       120\n",
      "\n",
      "    accuracy                           0.96       850\n",
      "   macro avg       0.95      0.88      0.91       850\n",
      "weighted avg       0.96      0.96      0.96       850\n",
      "\n"
     ]
    },
    {
     "name": "stderr",
     "output_type": "stream",
     "text": [
      "C:\\Users\\vanan\\Anaconda3\\lib\\site-packages\\xgboost\\sklearn.py:797: UserWarning: `early_stopping_rounds` in `fit` method is deprecated for better compatibility with scikit-learn, use `early_stopping_rounds` in constructor or`set_params` instead.\n",
      "  UserWarning,\n"
     ]
    }
   ],
   "source": [
    "# Define the xgboost model\n",
    "model_xgb = XGBClassifier(objective='binary:logistic', n_estimators=100, seed=50)\n",
    "\n",
    "# Train the model\n",
    "model_xgb.fit(X_train_scaled, y_train,\n",
    "              early_stopping_rounds=10, eval_set=[(X_test_scaled, y_test)], verbose = False)\n",
    "\n",
    "# Make predictions on the test set\n",
    "y_pred = model_xgb.predict(X_test_scaled)\n",
    "\n",
    "# Evaluate the model\n",
    "accuracy = accuracy_score(y_test, y_pred)\n",
    "f1 = f1_score(y_test,y_pred)\n",
    "print('f1:', f1)\n",
    "print('Accuracy:', accuracy)\n",
    "\n",
    "print(classification_report(y_test,y_pred))"
   ]
  },
  {
   "cell_type": "code",
   "execution_count": 377,
   "metadata": {},
   "outputs": [
    {
     "name": "stdout",
     "output_type": "stream",
     "text": [
      "\n",
      " Parameter tuning:\n",
      "\n",
      "Fitting 5 folds for each of 27 candidates, totalling 135 fits\n",
      "              precision    recall  f1-score   support\n",
      "\n",
      "           0       0.97      0.99      0.98       730\n",
      "           1       0.93      0.80      0.86       120\n",
      "\n",
      "    accuracy                           0.96       850\n",
      "   macro avg       0.95      0.90      0.92       850\n",
      "weighted avg       0.96      0.96      0.96       850\n",
      "\n",
      "Best parameters: {'learning_rate': 0.1, 'max_depth': 5, 'n_estimators': 100}\n"
     ]
    },
    {
     "data": {
      "text/plain": [
       "{'model': 'XGBoost',\n",
       " 'data_preprocess': 'NaN',\n",
       " 'precision': 0.9320388349514563,\n",
       " 'recall': 0.8,\n",
       " 'f1': 0.8609865470852018,\n",
       " 'accuracy': 0.9635294117647059}"
      ]
     },
     "execution_count": 377,
     "metadata": {},
     "output_type": "execute_result"
    }
   ],
   "source": [
    "# Define parameter grid\n",
    "param_grid = {'learning_rate': [0.1, 0.3, 0.5],\n",
    "              'max_depth': [3, 5, 7],\n",
    "              'n_estimators': [100, 200, 300]}\n",
    "\n",
    "params_xgb,results_xgb = tuning(model_xgb, \n",
    "                    X_train_scaled, X_test_scaled,\n",
    "                    y_train, y_test, \n",
    "                    param_grid,modelname='XGBoost',verbose_setting = 1)\n",
    "\n",
    "results_xgb"
   ]
  },
  {
   "cell_type": "code",
   "execution_count": 369,
   "metadata": {},
   "outputs": [
    {
     "name": "stdout",
     "output_type": "stream",
     "text": [
      "[0]\tvalidation_0-logloss:0.50882\tvalidation_1-logloss:0.51532\n",
      "[1]\tvalidation_0-logloss:0.40205\tvalidation_1-logloss:0.41605\n",
      "[2]\tvalidation_0-logloss:0.33790\tvalidation_1-logloss:0.35407\n",
      "[3]\tvalidation_0-logloss:0.29029\tvalidation_1-logloss:0.30899\n",
      "[4]\tvalidation_0-logloss:0.25574\tvalidation_1-logloss:0.28002\n",
      "[5]\tvalidation_0-logloss:0.21930\tvalidation_1-logloss:0.25622\n",
      "[6]\tvalidation_0-logloss:0.19498\tvalidation_1-logloss:0.23562\n",
      "[7]\tvalidation_0-logloss:0.17739\tvalidation_1-logloss:0.21938\n",
      "[8]\tvalidation_0-logloss:0.15901\tvalidation_1-logloss:0.21002\n",
      "[9]\tvalidation_0-logloss:0.14442\tvalidation_1-logloss:0.20256\n",
      "[10]\tvalidation_0-logloss:0.13506\tvalidation_1-logloss:0.19270\n",
      "[11]\tvalidation_0-logloss:0.12415\tvalidation_1-logloss:0.18674\n",
      "[12]\tvalidation_0-logloss:0.11564\tvalidation_1-logloss:0.18221\n",
      "[13]\tvalidation_0-logloss:0.10723\tvalidation_1-logloss:0.17605\n",
      "[14]\tvalidation_0-logloss:0.10109\tvalidation_1-logloss:0.17389\n",
      "[15]\tvalidation_0-logloss:0.09653\tvalidation_1-logloss:0.17351\n",
      "[16]\tvalidation_0-logloss:0.09424\tvalidation_1-logloss:0.17165\n",
      "[17]\tvalidation_0-logloss:0.09043\tvalidation_1-logloss:0.16856\n",
      "[18]\tvalidation_0-logloss:0.08816\tvalidation_1-logloss:0.16704\n"
     ]
    },
    {
     "name": "stderr",
     "output_type": "stream",
     "text": [
      "C:\\Users\\vanan\\Anaconda3\\lib\\site-packages\\xgboost\\sklearn.py:797: UserWarning: `early_stopping_rounds` in `fit` method is deprecated for better compatibility with scikit-learn, use `early_stopping_rounds` in constructor or`set_params` instead.\n",
      "  UserWarning,\n"
     ]
    },
    {
     "name": "stdout",
     "output_type": "stream",
     "text": [
      "[19]\tvalidation_0-logloss:0.08267\tvalidation_1-logloss:0.16401\n",
      "[20]\tvalidation_0-logloss:0.07808\tvalidation_1-logloss:0.16135\n",
      "[21]\tvalidation_0-logloss:0.07477\tvalidation_1-logloss:0.16056\n",
      "[22]\tvalidation_0-logloss:0.07358\tvalidation_1-logloss:0.16019\n",
      "[23]\tvalidation_0-logloss:0.06978\tvalidation_1-logloss:0.15816\n",
      "[24]\tvalidation_0-logloss:0.06835\tvalidation_1-logloss:0.15711\n",
      "[25]\tvalidation_0-logloss:0.06537\tvalidation_1-logloss:0.15549\n",
      "[26]\tvalidation_0-logloss:0.06252\tvalidation_1-logloss:0.15582\n",
      "[27]\tvalidation_0-logloss:0.06026\tvalidation_1-logloss:0.15451\n",
      "[28]\tvalidation_0-logloss:0.05838\tvalidation_1-logloss:0.15372\n",
      "[29]\tvalidation_0-logloss:0.05703\tvalidation_1-logloss:0.15501\n",
      "[30]\tvalidation_0-logloss:0.05433\tvalidation_1-logloss:0.15550\n",
      "[31]\tvalidation_0-logloss:0.05392\tvalidation_1-logloss:0.15553\n",
      "[32]\tvalidation_0-logloss:0.05261\tvalidation_1-logloss:0.15602\n",
      "[33]\tvalidation_0-logloss:0.05103\tvalidation_1-logloss:0.15510\n",
      "[34]\tvalidation_0-logloss:0.04957\tvalidation_1-logloss:0.15567\n",
      "[35]\tvalidation_0-logloss:0.04734\tvalidation_1-logloss:0.15553\n",
      "[36]\tvalidation_0-logloss:0.04663\tvalidation_1-logloss:0.15501\n",
      "[37]\tvalidation_0-logloss:0.04530\tvalidation_1-logloss:0.15481\n",
      "[38]\tvalidation_0-logloss:0.04420\tvalidation_1-logloss:0.15413\n",
      "f1: 0.8523206751054853\n",
      "Accuracy: 0.9588235294117647\n",
      "              precision    recall  f1-score   support\n",
      "\n",
      "           0       0.97      0.98      0.98       730\n",
      "           1       0.86      0.84      0.85       120\n",
      "\n",
      "    accuracy                           0.96       850\n",
      "   macro avg       0.92      0.91      0.91       850\n",
      "weighted avg       0.96      0.96      0.96       850\n",
      "\n",
      "\n",
      " Parameter tuning:\n",
      "\n",
      "Fitting 5 folds for each of 27 candidates, totalling 135 fits\n",
      "[CV 1/5] END learning_rate=0.1, max_depth=3, n_estimators=100;, score=0.676 total time=   0.1s\n",
      "[CV 2/5] END learning_rate=0.1, max_depth=3, n_estimators=100;, score=0.967 total time=   0.1s\n",
      "[CV 3/5] END learning_rate=0.1, max_depth=3, n_estimators=100;, score=0.951 total time=   0.1s\n",
      "[CV 4/5] END learning_rate=0.1, max_depth=3, n_estimators=100;, score=0.961 total time=   0.1s\n",
      "[CV 5/5] END learning_rate=0.1, max_depth=3, n_estimators=100;, score=0.968 total time=   0.1s\n",
      "[CV 1/5] END learning_rate=0.1, max_depth=3, n_estimators=200;, score=0.573 total time=   0.3s\n",
      "[CV 2/5] END learning_rate=0.1, max_depth=3, n_estimators=200;, score=0.975 total time=   0.3s\n",
      "[CV 3/5] END learning_rate=0.1, max_depth=3, n_estimators=200;, score=0.977 total time=   0.3s\n",
      "[CV 4/5] END learning_rate=0.1, max_depth=3, n_estimators=200;, score=0.979 total time=   0.3s\n",
      "[CV 5/5] END learning_rate=0.1, max_depth=3, n_estimators=200;, score=0.980 total time=   0.3s\n",
      "[CV 1/5] END learning_rate=0.1, max_depth=3, n_estimators=300;, score=0.564 total time=   0.5s\n",
      "[CV 2/5] END learning_rate=0.1, max_depth=3, n_estimators=300;, score=0.980 total time=   0.4s\n",
      "[CV 3/5] END learning_rate=0.1, max_depth=3, n_estimators=300;, score=0.981 total time=   0.4s\n",
      "[CV 4/5] END learning_rate=0.1, max_depth=3, n_estimators=300;, score=0.986 total time=   0.5s\n",
      "[CV 5/5] END learning_rate=0.1, max_depth=3, n_estimators=300;, score=0.986 total time=   0.5s\n",
      "[CV 1/5] END learning_rate=0.1, max_depth=5, n_estimators=100;, score=0.707 total time=   0.2s\n",
      "[CV 2/5] END learning_rate=0.1, max_depth=5, n_estimators=100;, score=0.976 total time=   0.2s\n",
      "[CV 3/5] END learning_rate=0.1, max_depth=5, n_estimators=100;, score=0.974 total time=   0.2s\n",
      "[CV 4/5] END learning_rate=0.1, max_depth=5, n_estimators=100;, score=0.979 total time=   0.2s\n",
      "[CV 5/5] END learning_rate=0.1, max_depth=5, n_estimators=100;, score=0.985 total time=   0.2s\n",
      "[CV 1/5] END learning_rate=0.1, max_depth=5, n_estimators=200;, score=0.644 total time=   0.5s\n",
      "[CV 2/5] END learning_rate=0.1, max_depth=5, n_estimators=200;, score=0.984 total time=   0.4s\n",
      "[CV 3/5] END learning_rate=0.1, max_depth=5, n_estimators=200;, score=0.984 total time=   0.5s\n",
      "[CV 4/5] END learning_rate=0.1, max_depth=5, n_estimators=200;, score=0.987 total time=   0.5s\n",
      "[CV 5/5] END learning_rate=0.1, max_depth=5, n_estimators=200;, score=0.992 total time=   0.5s\n",
      "[CV 1/5] END learning_rate=0.1, max_depth=5, n_estimators=300;, score=0.630 total time=   0.7s\n",
      "[CV 2/5] END learning_rate=0.1, max_depth=5, n_estimators=300;, score=0.985 total time=   0.8s\n",
      "[CV 3/5] END learning_rate=0.1, max_depth=5, n_estimators=300;, score=0.985 total time=   0.7s\n",
      "[CV 4/5] END learning_rate=0.1, max_depth=5, n_estimators=300;, score=0.991 total time=   0.8s\n",
      "[CV 5/5] END learning_rate=0.1, max_depth=5, n_estimators=300;, score=0.991 total time=   0.8s\n",
      "[CV 1/5] END learning_rate=0.1, max_depth=7, n_estimators=100;, score=0.757 total time=   0.3s\n",
      "[CV 2/5] END learning_rate=0.1, max_depth=7, n_estimators=100;, score=0.981 total time=   0.3s\n",
      "[CV 3/5] END learning_rate=0.1, max_depth=7, n_estimators=100;, score=0.982 total time=   0.3s\n",
      "[CV 4/5] END learning_rate=0.1, max_depth=7, n_estimators=100;, score=0.985 total time=   0.3s\n",
      "[CV 5/5] END learning_rate=0.1, max_depth=7, n_estimators=100;, score=0.990 total time=   0.3s\n",
      "[CV 1/5] END learning_rate=0.1, max_depth=7, n_estimators=200;, score=0.703 total time=   0.6s\n",
      "[CV 2/5] END learning_rate=0.1, max_depth=7, n_estimators=200;, score=0.985 total time=   0.7s\n",
      "[CV 3/5] END learning_rate=0.1, max_depth=7, n_estimators=200;, score=0.985 total time=   0.7s\n",
      "[CV 4/5] END learning_rate=0.1, max_depth=7, n_estimators=200;, score=0.987 total time=   0.8s\n",
      "[CV 5/5] END learning_rate=0.1, max_depth=7, n_estimators=200;, score=0.992 total time=   0.7s\n",
      "[CV 1/5] END learning_rate=0.1, max_depth=7, n_estimators=300;, score=0.691 total time=   1.1s\n",
      "[CV 2/5] END learning_rate=0.1, max_depth=7, n_estimators=300;, score=0.986 total time=   1.3s\n",
      "[CV 3/5] END learning_rate=0.1, max_depth=7, n_estimators=300;, score=0.985 total time=   1.3s\n",
      "[CV 4/5] END learning_rate=0.1, max_depth=7, n_estimators=300;, score=0.987 total time=   1.3s\n",
      "[CV 5/5] END learning_rate=0.1, max_depth=7, n_estimators=300;, score=0.992 total time=   1.3s\n",
      "[CV 1/5] END learning_rate=0.3, max_depth=3, n_estimators=100;, score=0.579 total time=   0.2s\n",
      "[CV 2/5] END learning_rate=0.3, max_depth=3, n_estimators=100;, score=0.983 total time=   0.1s\n",
      "[CV 3/5] END learning_rate=0.3, max_depth=3, n_estimators=100;, score=0.980 total time=   0.1s\n",
      "[CV 4/5] END learning_rate=0.3, max_depth=3, n_estimators=100;, score=0.986 total time=   0.1s\n",
      "[CV 5/5] END learning_rate=0.3, max_depth=3, n_estimators=100;, score=0.989 total time=   0.1s\n",
      "[CV 1/5] END learning_rate=0.3, max_depth=3, n_estimators=200;, score=0.575 total time=   0.4s\n",
      "[CV 2/5] END learning_rate=0.3, max_depth=3, n_estimators=200;, score=0.985 total time=   0.4s\n",
      "[CV 3/5] END learning_rate=0.3, max_depth=3, n_estimators=200;, score=0.984 total time=   0.4s\n",
      "[CV 4/5] END learning_rate=0.3, max_depth=3, n_estimators=200;, score=0.990 total time=   0.4s\n",
      "[CV 5/5] END learning_rate=0.3, max_depth=3, n_estimators=200;, score=0.991 total time=   0.4s\n",
      "[CV 1/5] END learning_rate=0.3, max_depth=3, n_estimators=300;, score=0.565 total time=   0.6s\n",
      "[CV 2/5] END learning_rate=0.3, max_depth=3, n_estimators=300;, score=0.982 total time=   0.6s\n",
      "[CV 3/5] END learning_rate=0.3, max_depth=3, n_estimators=300;, score=0.986 total time=   0.6s\n",
      "[CV 4/5] END learning_rate=0.3, max_depth=3, n_estimators=300;, score=0.990 total time=   0.7s\n",
      "[CV 5/5] END learning_rate=0.3, max_depth=3, n_estimators=300;, score=0.992 total time=   0.6s\n",
      "[CV 1/5] END learning_rate=0.3, max_depth=5, n_estimators=100;, score=0.621 total time=   0.3s\n",
      "[CV 2/5] END learning_rate=0.3, max_depth=5, n_estimators=100;, score=0.983 total time=   0.3s\n",
      "[CV 3/5] END learning_rate=0.3, max_depth=5, n_estimators=100;, score=0.985 total time=   0.3s\n",
      "[CV 4/5] END learning_rate=0.3, max_depth=5, n_estimators=100;, score=0.988 total time=   0.3s\n",
      "[CV 5/5] END learning_rate=0.3, max_depth=5, n_estimators=100;, score=0.991 total time=   0.2s\n",
      "[CV 1/5] END learning_rate=0.3, max_depth=5, n_estimators=200;, score=0.612 total time=   0.5s\n",
      "[CV 2/5] END learning_rate=0.3, max_depth=5, n_estimators=200;, score=0.983 total time=   0.6s\n",
      "[CV 3/5] END learning_rate=0.3, max_depth=5, n_estimators=200;, score=0.986 total time=   0.6s\n",
      "[CV 4/5] END learning_rate=0.3, max_depth=5, n_estimators=200;, score=0.986 total time=   0.6s\n"
     ]
    },
    {
     "name": "stdout",
     "output_type": "stream",
     "text": [
      "[CV 5/5] END learning_rate=0.3, max_depth=5, n_estimators=200;, score=0.991 total time=   0.6s\n",
      "[CV 1/5] END learning_rate=0.3, max_depth=5, n_estimators=300;, score=0.597 total time=   0.7s\n",
      "[CV 2/5] END learning_rate=0.3, max_depth=5, n_estimators=300;, score=0.985 total time=   0.9s\n",
      "[CV 3/5] END learning_rate=0.3, max_depth=5, n_estimators=300;, score=0.984 total time=   0.9s\n",
      "[CV 4/5] END learning_rate=0.3, max_depth=5, n_estimators=300;, score=0.985 total time=   0.9s\n",
      "[CV 5/5] END learning_rate=0.3, max_depth=5, n_estimators=300;, score=0.991 total time=   0.9s\n",
      "[CV 1/5] END learning_rate=0.3, max_depth=7, n_estimators=100;, score=0.696 total time=   0.3s\n",
      "[CV 2/5] END learning_rate=0.3, max_depth=7, n_estimators=100;, score=0.982 total time=   0.4s\n",
      "[CV 3/5] END learning_rate=0.3, max_depth=7, n_estimators=100;, score=0.984 total time=   0.3s\n",
      "[CV 4/5] END learning_rate=0.3, max_depth=7, n_estimators=100;, score=0.986 total time=   0.3s\n",
      "[CV 5/5] END learning_rate=0.3, max_depth=7, n_estimators=100;, score=0.990 total time=   0.4s\n",
      "[CV 1/5] END learning_rate=0.3, max_depth=7, n_estimators=200;, score=0.670 total time=   0.6s\n",
      "[CV 2/5] END learning_rate=0.3, max_depth=7, n_estimators=200;, score=0.982 total time=   0.7s\n",
      "[CV 3/5] END learning_rate=0.3, max_depth=7, n_estimators=200;, score=0.982 total time=   0.7s\n",
      "[CV 4/5] END learning_rate=0.3, max_depth=7, n_estimators=200;, score=0.985 total time=   0.7s\n",
      "[CV 5/5] END learning_rate=0.3, max_depth=7, n_estimators=200;, score=0.991 total time=   0.8s\n",
      "[CV 1/5] END learning_rate=0.3, max_depth=7, n_estimators=300;, score=0.654 total time=   0.9s\n",
      "[CV 2/5] END learning_rate=0.3, max_depth=7, n_estimators=300;, score=0.982 total time=   1.0s\n",
      "[CV 3/5] END learning_rate=0.3, max_depth=7, n_estimators=300;, score=0.984 total time=   1.0s\n",
      "[CV 4/5] END learning_rate=0.3, max_depth=7, n_estimators=300;, score=0.983 total time=   1.1s\n",
      "[CV 5/5] END learning_rate=0.3, max_depth=7, n_estimators=300;, score=0.991 total time=   1.2s\n",
      "[CV 1/5] END learning_rate=0.5, max_depth=3, n_estimators=100;, score=0.594 total time=   0.2s\n",
      "[CV 2/5] END learning_rate=0.5, max_depth=3, n_estimators=100;, score=0.987 total time=   0.1s\n",
      "[CV 3/5] END learning_rate=0.5, max_depth=3, n_estimators=100;, score=0.987 total time=   0.2s\n",
      "[CV 4/5] END learning_rate=0.5, max_depth=3, n_estimators=100;, score=0.984 total time=   0.2s\n",
      "[CV 5/5] END learning_rate=0.5, max_depth=3, n_estimators=100;, score=0.988 total time=   0.1s\n",
      "[CV 1/5] END learning_rate=0.5, max_depth=3, n_estimators=200;, score=0.586 total time=   0.3s\n",
      "[CV 2/5] END learning_rate=0.5, max_depth=3, n_estimators=200;, score=0.986 total time=   0.4s\n",
      "[CV 3/5] END learning_rate=0.5, max_depth=3, n_estimators=200;, score=0.982 total time=   0.4s\n",
      "[CV 4/5] END learning_rate=0.5, max_depth=3, n_estimators=200;, score=0.988 total time=   0.4s\n",
      "[CV 5/5] END learning_rate=0.5, max_depth=3, n_estimators=200;, score=0.992 total time=   0.4s\n",
      "[CV 1/5] END learning_rate=0.5, max_depth=3, n_estimators=300;, score=0.574 total time=   0.6s\n",
      "[CV 2/5] END learning_rate=0.5, max_depth=3, n_estimators=300;, score=0.983 total time=   0.6s\n",
      "[CV 3/5] END learning_rate=0.5, max_depth=3, n_estimators=300;, score=0.980 total time=   0.6s\n",
      "[CV 4/5] END learning_rate=0.5, max_depth=3, n_estimators=300;, score=0.989 total time=   0.6s\n",
      "[CV 5/5] END learning_rate=0.5, max_depth=3, n_estimators=300;, score=0.986 total time=   0.6s\n",
      "[CV 1/5] END learning_rate=0.5, max_depth=5, n_estimators=100;, score=0.625 total time=   0.2s\n",
      "[CV 2/5] END learning_rate=0.5, max_depth=5, n_estimators=100;, score=0.985 total time=   0.2s\n",
      "[CV 3/5] END learning_rate=0.5, max_depth=5, n_estimators=100;, score=0.982 total time=   0.3s\n",
      "[CV 4/5] END learning_rate=0.5, max_depth=5, n_estimators=100;, score=0.986 total time=   0.3s\n",
      "[CV 5/5] END learning_rate=0.5, max_depth=5, n_estimators=100;, score=0.990 total time=   0.3s\n",
      "[CV 1/5] END learning_rate=0.5, max_depth=5, n_estimators=200;, score=0.607 total time=   0.5s\n",
      "[CV 2/5] END learning_rate=0.5, max_depth=5, n_estimators=200;, score=0.981 total time=   0.6s\n",
      "[CV 3/5] END learning_rate=0.5, max_depth=5, n_estimators=200;, score=0.982 total time=   0.6s\n",
      "[CV 4/5] END learning_rate=0.5, max_depth=5, n_estimators=200;, score=0.985 total time=   0.6s\n",
      "[CV 5/5] END learning_rate=0.5, max_depth=5, n_estimators=200;, score=0.988 total time=   0.6s\n",
      "[CV 1/5] END learning_rate=0.5, max_depth=5, n_estimators=300;, score=0.599 total time=   0.7s\n",
      "[CV 2/5] END learning_rate=0.5, max_depth=5, n_estimators=300;, score=0.982 total time=   0.9s\n",
      "[CV 3/5] END learning_rate=0.5, max_depth=5, n_estimators=300;, score=0.982 total time=   0.9s\n",
      "[CV 4/5] END learning_rate=0.5, max_depth=5, n_estimators=300;, score=0.985 total time=   0.8s\n",
      "[CV 5/5] END learning_rate=0.5, max_depth=5, n_estimators=300;, score=0.991 total time=   0.9s\n",
      "[CV 1/5] END learning_rate=0.5, max_depth=7, n_estimators=100;, score=0.693 total time=   0.3s\n",
      "[CV 2/5] END learning_rate=0.5, max_depth=7, n_estimators=100;, score=0.983 total time=   0.4s\n",
      "[CV 3/5] END learning_rate=0.5, max_depth=7, n_estimators=100;, score=0.982 total time=   0.3s\n",
      "[CV 4/5] END learning_rate=0.5, max_depth=7, n_estimators=100;, score=0.987 total time=   0.4s\n",
      "[CV 5/5] END learning_rate=0.5, max_depth=7, n_estimators=100;, score=0.991 total time=   0.4s\n",
      "[CV 1/5] END learning_rate=0.5, max_depth=7, n_estimators=200;, score=0.679 total time=   0.5s\n",
      "[CV 2/5] END learning_rate=0.5, max_depth=7, n_estimators=200;, score=0.983 total time=   0.7s\n",
      "[CV 3/5] END learning_rate=0.5, max_depth=7, n_estimators=200;, score=0.983 total time=   0.7s\n",
      "[CV 4/5] END learning_rate=0.5, max_depth=7, n_estimators=200;, score=0.990 total time=   0.7s\n",
      "[CV 5/5] END learning_rate=0.5, max_depth=7, n_estimators=200;, score=0.992 total time=   0.7s\n",
      "[CV 1/5] END learning_rate=0.5, max_depth=7, n_estimators=300;, score=0.672 total time=   0.7s\n",
      "[CV 2/5] END learning_rate=0.5, max_depth=7, n_estimators=300;, score=0.983 total time=   1.0s\n",
      "[CV 3/5] END learning_rate=0.5, max_depth=7, n_estimators=300;, score=0.983 total time=   0.9s\n",
      "[CV 4/5] END learning_rate=0.5, max_depth=7, n_estimators=300;, score=0.989 total time=   1.0s\n",
      "[CV 5/5] END learning_rate=0.5, max_depth=7, n_estimators=300;, score=0.992 total time=   0.9s\n",
      "              precision    recall  f1-score   support\n",
      "\n",
      "           0       0.97      0.98      0.97       730\n",
      "           1       0.86      0.82      0.84       120\n",
      "\n",
      "    accuracy                           0.96       850\n",
      "   macro avg       0.92      0.90      0.91       850\n",
      "weighted avg       0.96      0.96      0.96       850\n",
      "\n",
      "Best parameters: {'learning_rate': 0.1, 'max_depth': 7, 'n_estimators': 100}\n"
     ]
    },
    {
     "data": {
      "text/plain": [
       "{'model': 'XGBoost',\n",
       " 'data_preprocess': 'SMOTE',\n",
       " 'precision': 0.8608695652173913,\n",
       " 'recall': 0.825,\n",
       " 'f1': 0.8425531914893616,\n",
       " 'accuracy': 0.9564705882352941}"
      ]
     },
     "execution_count": 369,
     "metadata": {},
     "output_type": "execute_result"
    }
   ],
   "source": [
    "# SMOTE\n",
    "# Train model\n",
    "# Define the xgboost model\n",
    "model_xgb_sm = XGBClassifier(objective='binary:logistic', n_estimators=100, seed=50)\n",
    "\n",
    "# Train the model\n",
    "model_xgb_sm.fit(X_train_sm, y_train_sm,\n",
    "              early_stopping_rounds=10, eval_set=[(X_test_scaled, y_test)], verbose = False)\n",
    "\n",
    "# Make predictions on test set\n",
    "y_pred_xgb_sm = model_xgb_sm.predict(X_test_scaled)\n",
    "\n",
    "# Evaluate the model\n",
    "accuracy = accuracy_score(y_test, y_pred_xgb_sm)\n",
    "f1 = f1_score(y_test,y_pred_xgb_sm)\n",
    "print('f1:', f1)\n",
    "print('Accuracy:', accuracy)\n",
    "print(classification_report(y_test, y_pred_xgb_sm))\n",
    "\n",
    "\n",
    "# Define parameter grid\n",
    "param_grid = {'learning_rate': [0.1, 0.3, 0.5],\n",
    "              'max_depth': [3, 5, 7],\n",
    "              'n_estimators': [100, 200, 300]}\n",
    "\n",
    "params_xgb_sm,results_xgb_sm = tuning(model_xgb_sm, \n",
    "                    X_train_sm, X_test_scaled,\n",
    "                    y_train_sm,y_test, \n",
    "                    param_grid,data_preprocess='SMOTE',modelname='XGBoost',\n",
    "                    verbose_setting=3)\n",
    "\n",
    "results_xgb_sm"
   ]
  },
  {
   "cell_type": "code",
   "execution_count": 370,
   "metadata": {},
   "outputs": [
    {
     "name": "stdout",
     "output_type": "stream",
     "text": [
      "[0]\tvalidation_0-logloss:0.50876\tvalidation_1-logloss:0.51551\n",
      "[1]\tvalidation_0-logloss:0.40195\tvalidation_1-logloss:0.41616\n",
      "[2]\tvalidation_0-logloss:0.33792\tvalidation_1-logloss:0.35424\n",
      "[3]\tvalidation_0-logloss:0.29033\tvalidation_1-logloss:0.30915\n",
      "[4]\tvalidation_0-logloss:0.25581\tvalidation_1-logloss:0.28022\n",
      "[5]\tvalidation_0-logloss:0.21938\tvalidation_1-logloss:0.25644\n",
      "[6]\tvalidation_0-logloss:0.19497\tvalidation_1-logloss:0.23396\n",
      "[7]\tvalidation_0-logloss:0.17956\tvalidation_1-logloss:0.22356\n",
      "[8]\tvalidation_0-logloss:0.16113\tvalidation_1-logloss:0.21411\n",
      "[9]\tvalidation_0-logloss:0.14551\tvalidation_1-logloss:0.20142\n",
      "[10]\tvalidation_0-logloss:0.13639\tvalidation_1-logloss:0.19647\n",
      "[11]\tvalidation_0-logloss:0.12546\tvalidation_1-logloss:0.19123\n",
      "[12]\tvalidation_0-logloss:0.11737\tvalidation_1-logloss:0.18445\n",
      "[13]\tvalidation_0-logloss:0.11302\tvalidation_1-logloss:0.18184\n",
      "[14]\tvalidation_0-logloss:0.10639\tvalidation_1-logloss:0.17967\n",
      "[15]\tvalidation_0-logloss:0.10118\tvalidation_1-logloss:0.17522\n",
      "[16]\tvalidation_0-logloss:0.09696\tvalidation_1-logloss:0.17521\n",
      "[17]\tvalidation_0-logloss:0.09291\tvalidation_1-logloss:0.17314\n",
      "[18]\tvalidation_0-logloss:0.09114\tvalidation_1-logloss:0.17225\n",
      "[19]\tvalidation_0-logloss:0.08853\tvalidation_1-logloss:0.16983\n",
      "[20]\tvalidation_0-logloss:0.08532\tvalidation_1-logloss:0.16852\n",
      "[21]\tvalidation_0-logloss:0.08442\tvalidation_1-logloss:0.16798\n"
     ]
    },
    {
     "name": "stderr",
     "output_type": "stream",
     "text": [
      "C:\\Users\\vanan\\Anaconda3\\lib\\site-packages\\xgboost\\sklearn.py:797: UserWarning: `early_stopping_rounds` in `fit` method is deprecated for better compatibility with scikit-learn, use `early_stopping_rounds` in constructor or`set_params` instead.\n",
      "  UserWarning,\n"
     ]
    },
    {
     "name": "stdout",
     "output_type": "stream",
     "text": [
      "[22]\tvalidation_0-logloss:0.08030\tvalidation_1-logloss:0.16530\n",
      "[23]\tvalidation_0-logloss:0.07641\tvalidation_1-logloss:0.16382\n",
      "[24]\tvalidation_0-logloss:0.07477\tvalidation_1-logloss:0.16346\n",
      "[25]\tvalidation_0-logloss:0.07360\tvalidation_1-logloss:0.16273\n",
      "[26]\tvalidation_0-logloss:0.07014\tvalidation_1-logloss:0.15995\n",
      "[27]\tvalidation_0-logloss:0.06662\tvalidation_1-logloss:0.15872\n",
      "[28]\tvalidation_0-logloss:0.06450\tvalidation_1-logloss:0.16006\n",
      "[29]\tvalidation_0-logloss:0.06236\tvalidation_1-logloss:0.15806\n",
      "[30]\tvalidation_0-logloss:0.05961\tvalidation_1-logloss:0.15772\n",
      "[31]\tvalidation_0-logloss:0.05675\tvalidation_1-logloss:0.15881\n",
      "[32]\tvalidation_0-logloss:0.05630\tvalidation_1-logloss:0.15852\n",
      "[33]\tvalidation_0-logloss:0.05408\tvalidation_1-logloss:0.15815\n",
      "[34]\tvalidation_0-logloss:0.05281\tvalidation_1-logloss:0.15805\n",
      "[35]\tvalidation_0-logloss:0.05117\tvalidation_1-logloss:0.15678\n",
      "[36]\tvalidation_0-logloss:0.05043\tvalidation_1-logloss:0.15782\n",
      "[37]\tvalidation_0-logloss:0.04837\tvalidation_1-logloss:0.15859\n",
      "[38]\tvalidation_0-logloss:0.04618\tvalidation_1-logloss:0.15809\n",
      "[39]\tvalidation_0-logloss:0.04425\tvalidation_1-logloss:0.15754\n",
      "[40]\tvalidation_0-logloss:0.04389\tvalidation_1-logloss:0.15722\n",
      "[41]\tvalidation_0-logloss:0.04150\tvalidation_1-logloss:0.15820\n",
      "[42]\tvalidation_0-logloss:0.04076\tvalidation_1-logloss:0.15723\n",
      "[43]\tvalidation_0-logloss:0.04052\tvalidation_1-logloss:0.15725\n",
      "[44]\tvalidation_0-logloss:0.03962\tvalidation_1-logloss:0.15798\n",
      "[45]\tvalidation_0-logloss:0.03882\tvalidation_1-logloss:0.15788\n",
      "f1: 0.8521739130434782\n",
      "Accuracy: 0.96\n",
      "              precision    recall  f1-score   support\n",
      "\n",
      "           0       0.97      0.98      0.98       730\n",
      "           1       0.89      0.82      0.85       120\n",
      "\n",
      "    accuracy                           0.96       850\n",
      "   macro avg       0.93      0.90      0.91       850\n",
      "weighted avg       0.96      0.96      0.96       850\n",
      "\n",
      "\n",
      " Parameter tuning:\n",
      "\n",
      "              precision    recall  f1-score   support\n",
      "\n",
      "           0       0.97      0.98      0.98       730\n",
      "           1       0.88      0.83      0.86       120\n",
      "\n",
      "    accuracy                           0.96       850\n",
      "   macro avg       0.93      0.91      0.92       850\n",
      "weighted avg       0.96      0.96      0.96       850\n",
      "\n",
      "Best parameters: {'learning_rate': 0.1, 'max_depth': 7, 'n_estimators': 100}\n"
     ]
    },
    {
     "data": {
      "text/plain": [
       "{'model': 'XGBoost',\n",
       " 'data_preprocess': 'SMOTE+TOMEK',\n",
       " 'precision': 0.8849557522123894,\n",
       " 'recall': 0.8333333333333334,\n",
       " 'f1': 0.8583690987124464,\n",
       " 'accuracy': 0.9611764705882353}"
      ]
     },
     "execution_count": 370,
     "metadata": {},
     "output_type": "execute_result"
    }
   ],
   "source": [
    "# SMOTE+TOMEK\n",
    "# Train model\n",
    "# Define the xgboost model\n",
    "model_xgb_smt = XGBClassifier(objective='binary:logistic', n_estimators=100, seed=50)\n",
    "\n",
    "# Train the model\n",
    "model_xgb_smt.fit(X_train_smt, y_train_smt,\n",
    "              early_stopping_rounds=10, eval_set=[(X_test_scaled, y_test)], verbose = False)\n",
    "\n",
    "# Make predictions on test set\n",
    "y_pred_xgb_smt = model_xgb_smt.predict(X_test_scaled)\n",
    "\n",
    "# Evaluate the model\n",
    "accuracy = accuracy_score(y_test, y_pred_xgb_smt)\n",
    "f1 = f1_score(y_test,y_pred_xgb_smt)\n",
    "print('f1:', f1)\n",
    "print('Accuracy:', accuracy)\n",
    "print(classification_report(y_test, y_pred_xgb_smt))\n",
    "\n",
    "\n",
    "# Define parameter grid\n",
    "param_grid = {'learning_rate': [0.1, 0.3, 0.5],\n",
    "              'max_depth': [3, 5, 7],\n",
    "              'n_estimators': [100, 200, 300]}\n",
    "\n",
    "params_xgb_smt,results_xgb_smt = tuning(model_xgb_smt, \n",
    "                    X_train_smt, X_test_scaled,\n",
    "                    y_train_smt,y_test, \n",
    "                    param_grid,data_preprocess='SMOTE+TOMEK',modelname='XGBoost')\n",
    "\n",
    "results_xgb_smt"
   ]
  },
  {
   "cell_type": "code",
   "execution_count": 378,
   "metadata": {},
   "outputs": [
    {
     "data": {
      "text/html": [
       "<div>\n",
       "<style scoped>\n",
       "    .dataframe tbody tr th:only-of-type {\n",
       "        vertical-align: middle;\n",
       "    }\n",
       "\n",
       "    .dataframe tbody tr th {\n",
       "        vertical-align: top;\n",
       "    }\n",
       "\n",
       "    .dataframe thead th {\n",
       "        text-align: right;\n",
       "    }\n",
       "</style>\n",
       "<table border=\"1\" class=\"dataframe\">\n",
       "  <thead>\n",
       "    <tr style=\"text-align: right;\">\n",
       "      <th></th>\n",
       "      <th>model</th>\n",
       "      <th>data_preprocess</th>\n",
       "      <th>precision</th>\n",
       "      <th>recall</th>\n",
       "      <th>f1</th>\n",
       "      <th>accuracy</th>\n",
       "    </tr>\n",
       "  </thead>\n",
       "  <tbody>\n",
       "    <tr>\n",
       "      <th>0</th>\n",
       "      <td>XGBoost</td>\n",
       "      <td>NaN</td>\n",
       "      <td>0.932039</td>\n",
       "      <td>0.800000</td>\n",
       "      <td>0.860987</td>\n",
       "      <td>0.963529</td>\n",
       "    </tr>\n",
       "    <tr>\n",
       "      <th>1</th>\n",
       "      <td>XGBoost</td>\n",
       "      <td>SMOTE</td>\n",
       "      <td>0.860870</td>\n",
       "      <td>0.825000</td>\n",
       "      <td>0.842553</td>\n",
       "      <td>0.956471</td>\n",
       "    </tr>\n",
       "    <tr>\n",
       "      <th>2</th>\n",
       "      <td>XGBoost</td>\n",
       "      <td>SMOTE+TOMEK</td>\n",
       "      <td>0.884956</td>\n",
       "      <td>0.833333</td>\n",
       "      <td>0.858369</td>\n",
       "      <td>0.961176</td>\n",
       "    </tr>\n",
       "  </tbody>\n",
       "</table>\n",
       "</div>"
      ],
      "text/plain": [
       "     model data_preprocess  precision    recall        f1  accuracy\n",
       "0  XGBoost             NaN   0.932039  0.800000  0.860987  0.963529\n",
       "1  XGBoost           SMOTE   0.860870  0.825000  0.842553  0.956471\n",
       "2  XGBoost     SMOTE+TOMEK   0.884956  0.833333  0.858369  0.961176"
      ]
     },
     "execution_count": 378,
     "metadata": {},
     "output_type": "execute_result"
    }
   ],
   "source": [
    "pd.DataFrame(results_xgb, index=[0]).append([results_xgb_sm,results_xgb_smt],ignore_index=True)"
   ]
  },
  {
   "cell_type": "markdown",
   "metadata": {},
   "source": [
    "### Best model for churn prediction"
   ]
  },
  {
   "cell_type": "markdown",
   "metadata": {},
   "source": [
    "The best model for churn prediction is XGBoost with scaled dataset:"
   ]
  },
  {
   "cell_type": "code",
   "execution_count": 380,
   "metadata": {},
   "outputs": [
    {
     "data": {
      "text/plain": [
       "{'learning_rate': 0.1, 'max_depth': 5, 'n_estimators': 100}"
      ]
     },
     "execution_count": 380,
     "metadata": {},
     "output_type": "execute_result"
    }
   ],
   "source": [
    "params_xgb"
   ]
  },
  {
   "cell_type": "code",
   "execution_count": 382,
   "metadata": {},
   "outputs": [
    {
     "name": "stdout",
     "output_type": "stream",
     "text": [
      "f1: 0.8636363636363635\n",
      "Accuracy: 0.9647058823529412\n"
     ]
    },
    {
     "name": "stderr",
     "output_type": "stream",
     "text": [
      "C:\\Users\\vanan\\Anaconda3\\lib\\site-packages\\xgboost\\sklearn.py:797: UserWarning: `early_stopping_rounds` in `fit` method is deprecated for better compatibility with scikit-learn, use `early_stopping_rounds` in constructor or`set_params` instead.\n",
      "  UserWarning,\n"
     ]
    }
   ],
   "source": [
    "# Get the best model\n",
    "best_model =  XGBClassifier(objective='binary:logistic', n_estimators=100, seed=50, max_depth = 5, learning_rate = 0.1)\n",
    "\n",
    "# Fit the best model to the training data\n",
    "best_model.fit(X_train_scaled, y_train, early_stopping_rounds=10, eval_set=[(X_test_scaled, y_test)], verbose=False)\n",
    "\n",
    "# Make predictions on the test set\n",
    "y_pred = best_model.predict(X_test_scaled)\n",
    "\n",
    "# Evaluate the model\n",
    "f1 = f1_score(y_test, y_pred)\n",
    "accuracy = accuracy_score(y_test, y_pred)\n",
    "print('f1:', f1)\n",
    "print('Accuracy:', accuracy)"
   ]
  },
  {
   "cell_type": "code",
   "execution_count": 383,
   "metadata": {},
   "outputs": [
    {
     "name": "stdout",
     "output_type": "stream",
     "text": [
      "              precision    recall  f1-score   support\n",
      "\n",
      "           0       0.97      0.99      0.98       730\n",
      "           1       0.95      0.79      0.86       120\n",
      "\n",
      "    accuracy                           0.96       850\n",
      "   macro avg       0.96      0.89      0.92       850\n",
      "weighted avg       0.96      0.96      0.96       850\n",
      "\n"
     ]
    }
   ],
   "source": [
    "print(classification_report(y_test,y_pred))"
   ]
  },
  {
   "cell_type": "code",
   "execution_count": 385,
   "metadata": {},
   "outputs": [],
   "source": [
    "cm = confusion_matrix(y_test,y_pred)"
   ]
  },
  {
   "cell_type": "code",
   "execution_count": 392,
   "metadata": {},
   "outputs": [
    {
     "data": {
      "image/png": "[encoded data removed]",
      "text/plain": [
       "<Figure size 720x720 with 2 Axes>"
      ]
     },
     "metadata": {},
     "output_type": "display_data"
    }
   ],
   "source": [
    "# Plot the confusion matrix as a heatmap\n",
    "plt.figure(figsize=(10,10))\n",
    "sns.heatmap(cm, annot=True, fmt='d', cmap='Blues', xticklabels=['Negative', 'Positive'], yticklabels=['Negative', 'Positive'])\n",
    "plt.title('Confusion Matrix')\n",
    "plt.ylabel('Actual')\n",
    "plt.xlabel('Predicted')\n",
    "plt.show()"
   ]
  },
  {
   "cell_type": "code",
   "execution_count": 393,
   "metadata": {},
   "outputs": [
    {
     "data": {
      "text/html": [
       "<div>\n",
       "<style scoped>\n",
       "    .dataframe tbody tr th:only-of-type {\n",
       "        vertical-align: middle;\n",
       "    }\n",
       "\n",
       "    .dataframe tbody tr th {\n",
       "        vertical-align: top;\n",
       "    }\n",
       "\n",
       "    .dataframe thead th {\n",
       "        text-align: right;\n",
       "    }\n",
       "</style>\n",
       "<table border=\"1\" class=\"dataframe\">\n",
       "  <thead>\n",
       "    <tr style=\"text-align: right;\">\n",
       "      <th></th>\n",
       "      <th>id</th>\n",
       "      <th>state</th>\n",
       "      <th>account_length</th>\n",
       "      <th>area_code</th>\n",
       "      <th>international_plan</th>\n",
       "      <th>voice_mail_plan</th>\n",
       "      <th>number_vmail_messages</th>\n",
       "      <th>total_day_minutes</th>\n",
       "      <th>total_day_calls</th>\n",
       "      <th>total_day_charge</th>\n",
       "      <th>total_eve_minutes</th>\n",
       "      <th>total_eve_calls</th>\n",
       "      <th>total_eve_charge</th>\n",
       "      <th>total_night_minutes</th>\n",
       "      <th>total_night_calls</th>\n",
       "      <th>total_night_charge</th>\n",
       "      <th>total_intl_minutes</th>\n",
       "      <th>total_intl_calls</th>\n",
       "      <th>total_intl_charge</th>\n",
       "      <th>number_customer_service_calls</th>\n",
       "    </tr>\n",
       "  </thead>\n",
       "  <tbody>\n",
       "    <tr>\n",
       "      <th>0</th>\n",
       "      <td>1</td>\n",
       "      <td>KS</td>\n",
       "      <td>128</td>\n",
       "      <td>area_code_415</td>\n",
       "      <td>no</td>\n",
       "      <td>yes</td>\n",
       "      <td>25</td>\n",
       "      <td>265.1</td>\n",
       "      <td>110</td>\n",
       "      <td>45.07</td>\n",
       "      <td>197.4</td>\n",
       "      <td>99</td>\n",
       "      <td>16.78</td>\n",
       "      <td>244.7</td>\n",
       "      <td>91</td>\n",
       "      <td>11.01</td>\n",
       "      <td>10.0</td>\n",
       "      <td>3</td>\n",
       "      <td>2.70</td>\n",
       "      <td>1</td>\n",
       "    </tr>\n",
       "    <tr>\n",
       "      <th>1</th>\n",
       "      <td>2</td>\n",
       "      <td>AL</td>\n",
       "      <td>118</td>\n",
       "      <td>area_code_510</td>\n",
       "      <td>yes</td>\n",
       "      <td>no</td>\n",
       "      <td>0</td>\n",
       "      <td>223.4</td>\n",
       "      <td>98</td>\n",
       "      <td>37.98</td>\n",
       "      <td>220.6</td>\n",
       "      <td>101</td>\n",
       "      <td>18.75</td>\n",
       "      <td>203.9</td>\n",
       "      <td>118</td>\n",
       "      <td>9.18</td>\n",
       "      <td>6.3</td>\n",
       "      <td>6</td>\n",
       "      <td>1.70</td>\n",
       "      <td>0</td>\n",
       "    </tr>\n",
       "    <tr>\n",
       "      <th>2</th>\n",
       "      <td>3</td>\n",
       "      <td>IA</td>\n",
       "      <td>62</td>\n",
       "      <td>area_code_415</td>\n",
       "      <td>no</td>\n",
       "      <td>no</td>\n",
       "      <td>0</td>\n",
       "      <td>120.7</td>\n",
       "      <td>70</td>\n",
       "      <td>20.52</td>\n",
       "      <td>307.2</td>\n",
       "      <td>76</td>\n",
       "      <td>26.11</td>\n",
       "      <td>203.0</td>\n",
       "      <td>99</td>\n",
       "      <td>9.14</td>\n",
       "      <td>13.1</td>\n",
       "      <td>6</td>\n",
       "      <td>3.54</td>\n",
       "      <td>4</td>\n",
       "    </tr>\n",
       "    <tr>\n",
       "      <th>3</th>\n",
       "      <td>4</td>\n",
       "      <td>VT</td>\n",
       "      <td>93</td>\n",
       "      <td>area_code_510</td>\n",
       "      <td>no</td>\n",
       "      <td>no</td>\n",
       "      <td>0</td>\n",
       "      <td>190.7</td>\n",
       "      <td>114</td>\n",
       "      <td>32.42</td>\n",
       "      <td>218.2</td>\n",
       "      <td>111</td>\n",
       "      <td>18.55</td>\n",
       "      <td>129.6</td>\n",
       "      <td>121</td>\n",
       "      <td>5.83</td>\n",
       "      <td>8.1</td>\n",
       "      <td>3</td>\n",
       "      <td>2.19</td>\n",
       "      <td>3</td>\n",
       "    </tr>\n",
       "    <tr>\n",
       "      <th>4</th>\n",
       "      <td>5</td>\n",
       "      <td>NE</td>\n",
       "      <td>174</td>\n",
       "      <td>area_code_415</td>\n",
       "      <td>no</td>\n",
       "      <td>no</td>\n",
       "      <td>0</td>\n",
       "      <td>124.3</td>\n",
       "      <td>76</td>\n",
       "      <td>21.13</td>\n",
       "      <td>277.1</td>\n",
       "      <td>112</td>\n",
       "      <td>23.55</td>\n",
       "      <td>250.7</td>\n",
       "      <td>115</td>\n",
       "      <td>11.28</td>\n",
       "      <td>15.5</td>\n",
       "      <td>5</td>\n",
       "      <td>4.19</td>\n",
       "      <td>3</td>\n",
       "    </tr>\n",
       "    <tr>\n",
       "      <th>...</th>\n",
       "      <td>...</td>\n",
       "      <td>...</td>\n",
       "      <td>...</td>\n",
       "      <td>...</td>\n",
       "      <td>...</td>\n",
       "      <td>...</td>\n",
       "      <td>...</td>\n",
       "      <td>...</td>\n",
       "      <td>...</td>\n",
       "      <td>...</td>\n",
       "      <td>...</td>\n",
       "      <td>...</td>\n",
       "      <td>...</td>\n",
       "      <td>...</td>\n",
       "      <td>...</td>\n",
       "      <td>...</td>\n",
       "      <td>...</td>\n",
       "      <td>...</td>\n",
       "      <td>...</td>\n",
       "      <td>...</td>\n",
       "    </tr>\n",
       "    <tr>\n",
       "      <th>745</th>\n",
       "      <td>746</td>\n",
       "      <td>GA</td>\n",
       "      <td>130</td>\n",
       "      <td>area_code_415</td>\n",
       "      <td>no</td>\n",
       "      <td>no</td>\n",
       "      <td>0</td>\n",
       "      <td>119.4</td>\n",
       "      <td>99</td>\n",
       "      <td>20.30</td>\n",
       "      <td>226.3</td>\n",
       "      <td>97</td>\n",
       "      <td>19.24</td>\n",
       "      <td>202.7</td>\n",
       "      <td>111</td>\n",
       "      <td>9.12</td>\n",
       "      <td>11.3</td>\n",
       "      <td>7</td>\n",
       "      <td>3.05</td>\n",
       "      <td>0</td>\n",
       "    </tr>\n",
       "    <tr>\n",
       "      <th>746</th>\n",
       "      <td>747</td>\n",
       "      <td>WA</td>\n",
       "      <td>73</td>\n",
       "      <td>area_code_408</td>\n",
       "      <td>no</td>\n",
       "      <td>no</td>\n",
       "      <td>0</td>\n",
       "      <td>177.2</td>\n",
       "      <td>118</td>\n",
       "      <td>30.12</td>\n",
       "      <td>270.5</td>\n",
       "      <td>84</td>\n",
       "      <td>22.99</td>\n",
       "      <td>241.8</td>\n",
       "      <td>112</td>\n",
       "      <td>10.88</td>\n",
       "      <td>12.3</td>\n",
       "      <td>2</td>\n",
       "      <td>3.32</td>\n",
       "      <td>3</td>\n",
       "    </tr>\n",
       "    <tr>\n",
       "      <th>747</th>\n",
       "      <td>748</td>\n",
       "      <td>WV</td>\n",
       "      <td>152</td>\n",
       "      <td>area_code_415</td>\n",
       "      <td>no</td>\n",
       "      <td>no</td>\n",
       "      <td>0</td>\n",
       "      <td>184.2</td>\n",
       "      <td>90</td>\n",
       "      <td>31.31</td>\n",
       "      <td>256.8</td>\n",
       "      <td>73</td>\n",
       "      <td>21.83</td>\n",
       "      <td>213.6</td>\n",
       "      <td>113</td>\n",
       "      <td>9.61</td>\n",
       "      <td>14.7</td>\n",
       "      <td>2</td>\n",
       "      <td>3.97</td>\n",
       "      <td>3</td>\n",
       "    </tr>\n",
       "    <tr>\n",
       "      <th>748</th>\n",
       "      <td>749</td>\n",
       "      <td>DC</td>\n",
       "      <td>61</td>\n",
       "      <td>area_code_415</td>\n",
       "      <td>no</td>\n",
       "      <td>no</td>\n",
       "      <td>0</td>\n",
       "      <td>140.6</td>\n",
       "      <td>89</td>\n",
       "      <td>23.90</td>\n",
       "      <td>172.8</td>\n",
       "      <td>128</td>\n",
       "      <td>14.69</td>\n",
       "      <td>212.4</td>\n",
       "      <td>97</td>\n",
       "      <td>9.56</td>\n",
       "      <td>13.6</td>\n",
       "      <td>4</td>\n",
       "      <td>3.67</td>\n",
       "      <td>1</td>\n",
       "    </tr>\n",
       "    <tr>\n",
       "      <th>749</th>\n",
       "      <td>750</td>\n",
       "      <td>DC</td>\n",
       "      <td>109</td>\n",
       "      <td>area_code_510</td>\n",
       "      <td>no</td>\n",
       "      <td>no</td>\n",
       "      <td>0</td>\n",
       "      <td>188.8</td>\n",
       "      <td>67</td>\n",
       "      <td>32.10</td>\n",
       "      <td>171.7</td>\n",
       "      <td>92</td>\n",
       "      <td>14.59</td>\n",
       "      <td>224.4</td>\n",
       "      <td>89</td>\n",
       "      <td>10.10</td>\n",
       "      <td>8.5</td>\n",
       "      <td>6</td>\n",
       "      <td>2.30</td>\n",
       "      <td>0</td>\n",
       "    </tr>\n",
       "  </tbody>\n",
       "</table>\n",
       "<p>750 rows × 20 columns</p>\n",
       "</div>"
      ],
      "text/plain": [
       "      id state  account_length      area_code international_plan  \\\n",
       "0      1    KS             128  area_code_415                 no   \n",
       "1      2    AL             118  area_code_510                yes   \n",
       "2      3    IA              62  area_code_415                 no   \n",
       "3      4    VT              93  area_code_510                 no   \n",
       "4      5    NE             174  area_code_415                 no   \n",
       "..   ...   ...             ...            ...                ...   \n",
       "745  746    GA             130  area_code_415                 no   \n",
       "746  747    WA              73  area_code_408                 no   \n",
       "747  748    WV             152  area_code_415                 no   \n",
       "748  749    DC              61  area_code_415                 no   \n",
       "749  750    DC             109  area_code_510                 no   \n",
       "\n",
       "    voice_mail_plan  number_vmail_messages  total_day_minutes  \\\n",
       "0               yes                     25              265.1   \n",
       "1                no                      0              223.4   \n",
       "2                no                      0              120.7   \n",
       "3                no                      0              190.7   \n",
       "4                no                      0              124.3   \n",
       "..              ...                    ...                ...   \n",
       "745              no                      0              119.4   \n",
       "746              no                      0              177.2   \n",
       "747              no                      0              184.2   \n",
       "748              no                      0              140.6   \n",
       "749              no                      0              188.8   \n",
       "\n",
       "     total_day_calls  total_day_charge  total_eve_minutes  total_eve_calls  \\\n",
       "0                110             45.07              197.4               99   \n",
       "1                 98             37.98              220.6              101   \n",
       "2                 70             20.52              307.2               76   \n",
       "3                114             32.42              218.2              111   \n",
       "4                 76             21.13              277.1              112   \n",
       "..               ...               ...                ...              ...   \n",
       "745               99             20.30              226.3               97   \n",
       "746              118             30.12              270.5               84   \n",
       "747               90             31.31              256.8               73   \n",
       "748               89             23.90              172.8              128   \n",
       "749               67             32.10              171.7               92   \n",
       "\n",
       "     total_eve_charge  total_night_minutes  total_night_calls  \\\n",
       "0               16.78                244.7                 91   \n",
       "1               18.75                203.9                118   \n",
       "2               26.11                203.0                 99   \n",
       "3               18.55                129.6                121   \n",
       "4               23.55                250.7                115   \n",
       "..                ...                  ...                ...   \n",
       "745             19.24                202.7                111   \n",
       "746             22.99                241.8                112   \n",
       "747             21.83                213.6                113   \n",
       "748             14.69                212.4                 97   \n",
       "749             14.59                224.4                 89   \n",
       "\n",
       "     total_night_charge  total_intl_minutes  total_intl_calls  \\\n",
       "0                 11.01                10.0                 3   \n",
       "1                  9.18                 6.3                 6   \n",
       "2                  9.14                13.1                 6   \n",
       "3                  5.83                 8.1                 3   \n",
       "4                 11.28                15.5                 5   \n",
       "..                  ...                 ...               ...   \n",
       "745                9.12                11.3                 7   \n",
       "746               10.88                12.3                 2   \n",
       "747                9.61                14.7                 2   \n",
       "748                9.56                13.6                 4   \n",
       "749               10.10                 8.5                 6   \n",
       "\n",
       "     total_intl_charge  number_customer_service_calls  \n",
       "0                 2.70                              1  \n",
       "1                 1.70                              0  \n",
       "2                 3.54                              4  \n",
       "3                 2.19                              3  \n",
       "4                 4.19                              3  \n",
       "..                 ...                            ...  \n",
       "745               3.05                              0  \n",
       "746               3.32                              3  \n",
       "747               3.97                              3  \n",
       "748               3.67                              1  \n",
       "749               2.30                              0  \n",
       "\n",
       "[750 rows x 20 columns]"
      ]
     },
     "execution_count": 393,
     "metadata": {},
     "output_type": "execute_result"
    }
   ],
   "source": [
    "df_test"
   ]
  },
  {
   "cell_type": "code",
   "execution_count": null,
   "metadata": {},
   "outputs": [],
   "source": []
  }
 ],
 "metadata": {
  "kernelspec": {
   "display_name": "Python 3",
   "language": "python",
   "name": "python3"
  },
  "language_info": {
   "codemirror_mode": {
    "name": "ipython",
    "version": 3
   },
   "file_extension": ".py",
   "mimetype": "text/x-python",
   "name": "python",
   "nbconvert_exporter": "python",
   "pygments_lexer": "ipython3",
   "version": "3.7.1"
  }
 },
 "nbformat": 4,
 "nbformat_minor": 4
}
